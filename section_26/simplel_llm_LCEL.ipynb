{
 "cells": [
  {
   "cell_type": "markdown",
   "id": "172f0413",
   "metadata": {},
   "source": [
    "LCEL - Langchain Expression Language to chain components together"
   ]
  },
  {
   "cell_type": "code",
   "execution_count": 2,
   "id": "9bed1ca4",
   "metadata": {},
   "outputs": [
    {
     "data": {
      "text/plain": [
       "True"
      ]
     },
     "execution_count": 2,
     "metadata": {},
     "output_type": "execute_result"
    }
   ],
   "source": [
    "import os\n",
    "import dotenv\n",
    "dotenv.load_dotenv()"
   ]
  },
  {
   "cell_type": "code",
   "execution_count": 11,
   "id": "8d7d8293",
   "metadata": {},
   "outputs": [],
   "source": [
    "from langchain_groq import ChatGroq\n",
    "\n",
    "model = ChatGroq(\n",
    "    model=\"openai/gpt-oss-20b\",\n",
    "    temperature=0.0,\n",
    "    max_retries=2,\n",
    "    # other params...\n",
    ")\n",
    "messages = [\n",
    "    (\"system\", \"You are a helpful translator. Translate the user sentence to French.\"),\n",
    "    (\"human\", \"I love programming.\"),\n",
    "]\n",
    "# model.invoke(messages)"
   ]
  },
  {
   "cell_type": "code",
   "execution_count": 18,
   "id": "ba5b8d9d",
   "metadata": {},
   "outputs": [],
   "source": [
    "\n",
    "from langchain_core.prompts import HumanMessagePromptTemplate, SystemMessagePromptTemplate, ChatPromptTemplate\n",
    "\n",
    "from langchain_core.messages import HumanMessage, SystemMessage\n",
    "messages = [\n",
    "    SystemMessagePromptTemplate.from_template(\"You are a helpful translator. Translate the user sentence to French.\"),\n",
    "    HumanMessagePromptTemplate.from_template(\"{text}\"),\n",
    "]\n",
    "\n",
    "messages=[\n",
    "    SystemMessage(content=\"You are a helpful translator. Translate the user sentence to French.\"),\n",
    "    HumanMessage(content=\"I love programming.\"),    \n",
    "]\n",
    "\n",
    "\n",
    "result = model.invoke(messages)"
   ]
  },
  {
   "cell_type": "code",
   "execution_count": 19,
   "id": "fd10a916",
   "metadata": {},
   "outputs": [
    {
     "data": {
      "text/plain": [
       "'J’aime programmer.'"
      ]
     },
     "execution_count": 19,
     "metadata": {},
     "output_type": "execute_result"
    }
   ],
   "source": [
    "from langchain_core.output_parsers import StrOutputParser\n",
    "str_parser = StrOutputParser()\n",
    "str_parser.invoke(result)"
   ]
  },
  {
   "cell_type": "code",
   "execution_count": null,
   "id": "7457fcf3",
   "metadata": {},
   "outputs": [],
   "source": [
    "## using LCEL -chain the components together\n",
    "\n",
    "\n",
    "chain = model | str_parser\n",
    "chain"
   ]
  },
  {
   "cell_type": "code",
   "execution_count": 26,
   "id": "135c4208",
   "metadata": {},
   "outputs": [],
   "source": [
    "## prompt template \n",
    "\n",
    "\n",
    "from langchain_core.prompts import ChatPromptTemplate\n",
    "\n",
    "\n",
    "generic_template = \"translate the following text to {language}: {text}\"\n",
    "\n",
    "\n",
    "prompt = ChatPromptTemplate.from_messages(\n",
    "    [\n",
    "        (\"system\", \"You are a helpful translator. dont make up answers.\"),\n",
    "        (\"user\", generic_template)\n",
    "    ]\n",
    ")\n",
    "\n",
    "\n",
    "\n",
    "chain = prompt | model | str_parser\n",
    "\n",
    "result =chain.invoke({\"language\":\"French\", \"text\":\"I love programming.\"})\n"
   ]
  },
  {
   "cell_type": "code",
   "execution_count": 27,
   "id": "e0114f2b",
   "metadata": {},
   "outputs": [
    {
     "ename": "AttributeError",
     "evalue": "'str' object has no attribute 'to_message'",
     "output_type": "error",
     "traceback": [
      "\u001b[1;31m---------------------------------------------------------------------------\u001b[0m",
      "\u001b[1;31mAttributeError\u001b[0m                            Traceback (most recent call last)",
      "Cell \u001b[1;32mIn[27], line 1\u001b[0m\n\u001b[1;32m----> 1\u001b[0m \u001b[43mresult\u001b[49m\u001b[38;5;241;43m.\u001b[39;49m\u001b[43mto_message\u001b[49m()\n",
      "\u001b[1;31mAttributeError\u001b[0m: 'str' object has no attribute 'to_message'"
     ]
    }
   ],
   "source": [
    "result.to_message()"
   ]
  },
  {
   "cell_type": "code",
   "execution_count": null,
   "id": "2a4e3909",
   "metadata": {},
   "outputs": [],
   "source": []
  }
 ],
 "metadata": {
  "kernelspec": {
   "display_name": ".venv",
   "language": "python",
   "name": "python3"
  },
  "language_info": {
   "codemirror_mode": {
    "name": "ipython",
    "version": 3
   },
   "file_extension": ".py",
   "mimetype": "text/x-python",
   "name": "python",
   "nbconvert_exporter": "python",
   "pygments_lexer": "ipython3",
   "version": "3.10.0"
  }
 },
 "nbformat": 4,
 "nbformat_minor": 5
}
