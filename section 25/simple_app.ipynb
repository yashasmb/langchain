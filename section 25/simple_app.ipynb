{
 "cells": [
  {
   "cell_type": "code",
   "execution_count": 1,
   "id": "e71e1816",
   "metadata": {},
   "outputs": [],
   "source": [
    "import os\n",
    "from dotenv import load_dotenv\n",
    "load_dotenv()\n",
    "\n",
    "\n",
    "from  langchain_google_genai import ChatGoogleGenerativeAI\n",
    "from langchain_ollama.llms import OllamaLLM\n",
    "\n",
    "from langchain_core.prompts import  ChatPromptTemplate\n",
    "\n",
    "from langchain_core.output_parsers import StrOutputParser\n",
    "\n",
    "google_llm = ChatGoogleGenerativeAI(model = \"gemini-2.5-flash\")\n",
    "gemma_llm = OllamaLLM(model=\"gemma3:4b\")\n"
   ]
  },
  {
   "cell_type": "code",
   "execution_count": null,
   "id": "56ac7da6",
   "metadata": {},
   "outputs": [],
   "source": []
  }
 ],
 "metadata": {
  "kernelspec": {
   "display_name": ".venv",
   "language": "python",
   "name": "python3"
  },
  "language_info": {
   "codemirror_mode": {
    "name": "ipython",
    "version": 3
   },
   "file_extension": ".py",
   "mimetype": "text/x-python",
   "name": "python",
   "nbconvert_exporter": "python",
   "pygments_lexer": "ipython3",
   "version": "3.10.0"
  }
 },
 "nbformat": 4,
 "nbformat_minor": 5
}
