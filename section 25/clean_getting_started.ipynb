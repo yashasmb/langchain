{
 "cells": [
  {
   "cell_type": "code",
   "execution_count": 1,
   "id": "0f0c7b49",
   "metadata": {},
   "outputs": [],
   "source": [
    "import os\n",
    "from dotenv import load_dotenv\n",
    "load_dotenv()\n",
    "from  langchain_google_genai import ChatGoogleGenerativeAI\n",
    "from langchain_ollama.llms import OllamaLLM\n",
    "\n",
    "google_llm = ChatGoogleGenerativeAI(model = \"gemini-2.5-flash\")\n",
    "gemma_llm = OllamaLLM(model=\"gemma3:4b\")\n"
   ]
  },
  {
   "cell_type": "code",
   "execution_count": 5,
   "id": "10c27cbb",
   "metadata": {},
   "outputs": [],
   "source": [
    "target_url = \"https://www.headphonezone.in/pages/our-team\"\n",
    "from langchain_community.document_loaders import WebBaseLoader\n",
    "\n",
    "loader = WebBaseLoader(target_url)\n",
    "doc = loader.load()\n",
    "\n",
    "from langchain_text_splitters import RecursiveCharacterTextSplitter\n",
    "\n",
    "# Clean up whitespace\n",
    "cleaned_doc = []\n",
    "for d in doc:\n",
    "    d.page_content = d.page_content.replace(\"\\n\", \" \").replace(\"\\t\", \" \")\n",
    "    d.page_content = \" \".join(d.page_content.split())  # remove extra spaces\n",
    "    cleaned_doc.append(d)\n",
    "\n",
    "# Split into chunks\n",
    "text_splitter = RecursiveCharacterTextSplitter(\n",
    "    chunk_size=1000,\n",
    "    chunk_overlap=100\n",
    ")\n",
    "\n",
    "texts = text_splitter.split_documents(cleaned_doc)\n",
    "len(texts)\n",
    "\n",
    "\n",
    "from langchain_ollama import OllamaEmbeddings\n",
    "from langchain_community.vectorstores import FAISS\n",
    "\n",
    "embeddings = OllamaEmbeddings(\n",
    "    model=\"mxbai-embed-large:latest\",\n",
    ")\n",
    "\n",
    "\n",
    "vectorstore = FAISS.from_documents(texts, embedding=embeddings)"
   ]
  },
  {
   "cell_type": "code",
   "execution_count": 14,
   "id": "2e4bdee0",
   "metadata": {},
   "outputs": [],
   "source": [
    "from langchain.chains.combine_documents import create_stuff_documents_chain\n",
    "from langchain_core.prompts import  ChatPromptTemplate\n",
    "from langchain.chains import create_retrieval_chain\n",
    "\n",
    "\n",
    "prompt = ChatPromptTemplate.from_template(\n",
    "    \"\"\"\n",
    "    Answer the question based on the context below.\n",
    "\n",
    "    Question: {input}\n",
    "\n",
    "    <content>\n",
    "    {context}\n",
    "    </content>\n",
    "\n",
    "    If you don't know the answer, just say \"I don't know\".\n",
    "    \"\"\",\n",
    ")\n",
    "\n",
    "\n",
    "document_chain = create_stuff_documents_chain(gemma_llm, prompt)\n",
    "\n",
    "retriver = vectorstore.as_retriever(search_kwargs={\"k\": 2})\n",
    "\n",
    "retrival_chain = create_retrieval_chain(retriver, document_chain)"
   ]
  },
  {
   "cell_type": "code",
   "execution_count": 18,
   "id": "bcf0e333",
   "metadata": {},
   "outputs": [
    {
     "data": {
      "text/plain": [
       "{'input': 'who is FOUNDER & CEO of headphone zone',\n",
       " 'context': [Document(id='da076f74-6a16-4cbc-b92f-817543613050', metadata={'source': 'https://www.headphonezone.in/pages/our-team', 'title': 'Meet The Team Of Headphone Zone', 'description': 'Headphone Zone is India’s First Exclusive Headphone Retail Brand. Know more about our team and what everyone here at Headphone Zone does.', 'language': 'en'}, page_content='Meet The Team Of Headphone Zone Skip to content Festival of Sound Sale is Now Live 💥 Festival of Sound Sale is Now Live 💥 Festival of Sound Sale is Now Live 💥 Festival of Sound Sale is Now Live 💥 Festival of Sound Sale is Now Live 💥 Festival of Sound Sale is Now Live 💥 Festival of Sound Sale is Now Live 💥 Festival of Sound Sale is Now Live 💥 Festival of Sound Sale is Now Live 💥 Festival of Sound Sale is Now Live 💥 Menu Search SALE Categories In-Ears Headphones DACs & Amps Hi-Res Audio Players Wireless Cables Accessories Home Audio Merch In-Ears Beginner Audiophile IEMs Flagship Audiophile IEMs Our Collabs Type-C IEMs On-Stage Monitors IEM Cables Eartips IEMs Bundles Headphones Beginner Audiophile Flagship Headphones Studio & Professional For Calls Gaming Headphone Cables Earpads Headphones Bundles DACs & Amps Portable DACs & Amps Desktop DACs & Amps Speaker Amps Network Streamers Audio Interface Hi-Res Audio Players Portable Hi-Res Digital Audio Player Desktop Hi-Res Digital Audio'),\n",
       "  Document(id='6187d838-b634-47e9-9f46-ba5837cd6122', metadata={'source': 'https://www.headphonezone.in/pages/our-team', 'title': 'Meet The Team Of Headphone Zone', 'description': 'Headphone Zone is India’s First Exclusive Headphone Retail Brand. Know more about our team and what everyone here at Headphone Zone does.', 'language': 'en'}, page_content='aim to help you rediscover your music and help you enjoy the riffs, basslines and solos that were always there, but never heard. © 2025, Headphone Zone Owned, Operated & Funded by Proud Indians.Everything on this website has been made with a lot of love and hard work. If you copy anything we will hunt you down. We mean it.')],\n",
       " 'answer': \"I don't know.\"}"
      ]
     },
     "execution_count": 18,
     "metadata": {},
     "output_type": "execute_result"
    }
   ],
   "source": [
    "retrival_chain.invoke({\"input\": \"who is FOUNDER & CEO of headphone zone\"})"
   ]
  },
  {
   "cell_type": "code",
   "execution_count": null,
   "id": "d7366add",
   "metadata": {},
   "outputs": [],
   "source": []
  },
  {
   "cell_type": "code",
   "execution_count": null,
   "id": "7f0208ca",
   "metadata": {},
   "outputs": [],
   "source": []
  },
  {
   "cell_type": "code",
   "execution_count": null,
   "id": "68c36086",
   "metadata": {},
   "outputs": [],
   "source": []
  }
 ],
 "metadata": {
  "kernelspec": {
   "display_name": ".venv",
   "language": "python",
   "name": "python3"
  },
  "language_info": {
   "codemirror_mode": {
    "name": "ipython",
    "version": 3
   },
   "file_extension": ".py",
   "mimetype": "text/x-python",
   "name": "python",
   "nbconvert_exporter": "python",
   "pygments_lexer": "ipython3",
   "version": "3.10.0"
  }
 },
 "nbformat": 4,
 "nbformat_minor": 5
}
