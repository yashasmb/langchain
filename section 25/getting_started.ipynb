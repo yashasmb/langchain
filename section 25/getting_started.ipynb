{
 "cells": [
  {
   "cell_type": "code",
   "execution_count": 1,
   "id": "190c6db3",
   "metadata": {},
   "outputs": [
    {
     "data": {
      "text/plain": [
       "True"
      ]
     },
     "execution_count": 1,
     "metadata": {},
     "output_type": "execute_result"
    }
   ],
   "source": [
    "import os\n",
    "from dotenv import load_dotenv\n",
    "load_dotenv()"
   ]
  },
  {
   "cell_type": "code",
   "execution_count": null,
   "id": "ef5c2cea",
   "metadata": {},
   "outputs": [],
   "source": [
    "from  langchain_google_genai import ChatGoogleGenerativeAI\n",
    "from langchain_ollama.llms import OllamaLLM\n",
    "\n",
    "google_llm = ChatGoogleGenerativeAI(model = \"gemini-2.5-flash\")\n",
    "gemma_llm = OllamaLLM(model=\"gemma3:4b\")\n"
   ]
  },
  {
   "cell_type": "code",
   "execution_count": 4,
   "id": "7e064a1a",
   "metadata": {},
   "outputs": [
    {
     "data": {
      "text/plain": [
       "'Okay, that\\'s a perfectly reasonable and helpful starting point! \"Let\\'s think step by step\" indicates you\\'re going to break down the explanation of LangChain into manageable pieces. \\n\\nNow, you need to actually *explain* what LangChain is.  It\\'s a fantastic starting point, but the next step is to deliver the core information.\\n\\nHere\\'s a possible expanded answer building on your \"Let\\'s think step by step\" response:\\n\\n\"Let\\'s think step by step. LangChain is a framework designed to simplify the process of building applications that use large language models (LLMs) like GPT-3, GPT-4, and others.  It\\'s not a single model itself, but rather a toolkit – a collection of components and abstractions – that make it easier to chain together LLMs with other tools and data sources.\\n\\nHere\\'s a breakdown:\\n\\n1. **Chaining LLMs:** The core idea is to link multiple LLM calls together.  Instead of just asking one LLM a question and getting a single response, you can create a sequence of steps.  For example, you could:\\n    *  First, ask an LLM to summarize a document.\\n    *  Then, use that summary to answer a more specific question.\\n\\n2. **Connectors:** LangChain provides \\'connectors\\' to interact with various data sources. These connectors allow the LLM to access and use information from things like:\\n    * **Databases:**  Like PostgreSQL or MongoDB.\\n    * **Websites:**  To extract information.\\n    * **APIs:** To interact with external services.\\n\\n3. **Memory:** LLMs are stateless - they don\\'t remember previous conversations. LangChain provides ways to add \\'memory\\' to your applications, allowing the LLM to retain context and build a conversational experience.\\n\\n4. **Agents:**  LangChain also allows you to create \\'agents\\' that can automatically decide which actions to take based on the input they receive.  This opens the door to creating highly interactive and intelligent applications.\\n\\n**In essence, LangChain empowers developers to build sophisticated LLM-powered applications that go beyond simple question-answering.  It handles the complexity of integrating LLMs with other components and data, allowing you to focus on building the logic of your application.**\"\\n\\n---\\n\\nDo you want me to:\\n\\n*   Expand on a particular aspect of the explanation (like memory or agents)?\\n*   Provide a simplified explanation for a beginner?\\n*   Give you some examples of what you can build with LangChain?'"
      ]
     },
     "execution_count": 4,
     "metadata": {},
     "output_type": "execute_result"
    }
   ],
   "source": [
    "from langchain_core.prompts import ChatPromptTemplate\n",
    "\n",
    "\n",
    "template = \"\"\"Question: {question}\n",
    "\n",
    "Answer: Let's think step by step.\"\"\"\n",
    "\n",
    "prompt = ChatPromptTemplate.from_template(template)\n",
    "chain = prompt | gemma_llm\n",
    "chain.invoke({\"question\": \"What is LangChain?\"})"
   ]
  },
  {
   "cell_type": "code",
   "execution_count": null,
   "id": "8993f2b8",
   "metadata": {},
   "outputs": [],
   "source": [
    "from langchain_core.prompts import ChatPromptTemplate\n",
    "\n",
    "prompt  = ChatPromptTemplate.from_messages([\n",
    "    (\"system\", \"You are a helpful assistant that translates {input_language} to {output_language}\"),\n",
    "    (\"user\", \"Translate the following text: {text}\"), ])\n",
    "\n",
    "a = prompt.invoke({\"input_language\": \"English\", \"output_language\": \"French\", \"text\": \"I love programming.\"})\n",
    "google_chain = prompt | google_llm\n",
    "gemma_chain =prompt | gemma_llm \n",
    "output_google =google_chain.invoke({\"input_language\": \"English\", \"output_language\": \"French\", \"text\": \"he eats apples. \"})\n",
    "output_gemma =  gemma_chain.invoke({\"input_language\": \"English\", \"output_language\": \"French\", \"text\": \"he eats apples. \"})"
   ]
  },
  {
   "cell_type": "code",
   "execution_count": null,
   "id": "7a40994d",
   "metadata": {},
   "outputs": [
    {
     "name": "stdout",
     "output_type": "stream",
     "text": [
      "Il mange des pommes.\n",
      "\n",
      "Il mange des pommes. \n",
      "\n",
      "Would you like me to translate anything else?\n"
     ]
    }
   ],
   "source": [
    "print(output_google.content)\n",
    "print(output_gemma)"
   ]
  },
  {
   "cell_type": "code",
   "execution_count": 12,
   "id": "8c86e9e7",
   "metadata": {},
   "outputs": [
    {
     "name": "stdout",
     "output_type": "stream",
     "text": [
      "Hello, world!\n"
     ]
    }
   ],
   "source": [
    "## string output parser\n",
    "\n",
    "from langchain_core.output_parsers import StrOutputParser\n",
    "parser = StrOutputParser()\n",
    "output = parser.parse(\"Hello, world!\")\n",
    "print(output)"
   ]
  },
  {
   "cell_type": "code",
   "execution_count": 15,
   "id": "c9ff8300",
   "metadata": {},
   "outputs": [],
   "source": [
    "chain = prompt | gemma_llm | parser\n",
    "output = chain.invoke({\"input_language\": \"English\", \"output_language\": \"French\", \"text\": \"MY name is Yashas\"})\n"
   ]
  },
  {
   "cell_type": "code",
   "execution_count": 37,
   "id": "8d308238",
   "metadata": {},
   "outputs": [
    {
     "data": {
      "text/plain": [
       "ChatPromptTemplate(input_variables=['input_language', 'output_language', 'text'], input_types={}, partial_variables={}, messages=[SystemMessagePromptTemplate(prompt=PromptTemplate(input_variables=['input_language', 'output_language'], input_types={}, partial_variables={}, template='You are a helpful assistant that translates {input_language} to {output_language}.'), additional_kwargs={}), HumanMessagePromptTemplate(prompt=PromptTemplate(input_variables=['text'], input_types={}, partial_variables={}, template='Translate the following text: {text}'), additional_kwargs={})])\n",
       "| OllamaLLM(model='gemma3:4b')\n",
       "| StrOutputParser()"
      ]
     },
     "execution_count": 37,
     "metadata": {},
     "output_type": "execute_result"
    }
   ],
   "source": [
    "chain"
   ]
  },
  {
   "cell_type": "markdown",
   "id": "1f246684",
   "metadata": {},
   "source": [
    "## creating a simple llm with data injection\n"
   ]
  },
  {
   "cell_type": "code",
   "execution_count": 47,
   "id": "3e1627d4",
   "metadata": {},
   "outputs": [],
   "source": [
    "target_url = \"https://www.headphonezone.in/pages/our-team\"\n",
    "\n",
    "import requests\n",
    "from bs4 import BeautifulSoup\n",
    "\n",
    "def scrape(url):\n",
    "    response = requests.get(url)\n",
    "    soup = BeautifulSoup(response.text, 'html.parser')\n",
    "    return soup\n",
    "\n",
    "def scrape_clean_text(url):\n",
    "    response = requests.get(url)\n",
    "    soup = BeautifulSoup(response.text, 'html.parser')\n",
    "\n",
    "    # Remove script and style elements\n",
    "    for script in soup([\"script\", \"style\"]):\n",
    "        script.extract()\n",
    "\n",
    "    # Get raw text\n",
    "    text = soup.get_text(separator=\"\\n\")\n",
    "\n",
    "    # Clean up whitespace\n",
    "    lines = [line.strip() for line in text.splitlines() if line.strip()]\n",
    "    clean_text = \"\\n\".join(lines)\n",
    "\n",
    "    return clean_text"
   ]
  },
  {
   "cell_type": "code",
   "execution_count": 48,
   "id": "891c6e98",
   "metadata": {},
   "outputs": [],
   "source": [
    "from langchain_community.document_loaders import WebBaseLoader\n",
    "\n",
    "loader = WebBaseLoader(target_url)\n"
   ]
  },
  {
   "cell_type": "code",
   "execution_count": 49,
   "id": "1eeac595",
   "metadata": {},
   "outputs": [
    {
     "data": {
      "text/plain": [
       "1"
      ]
     },
     "execution_count": 49,
     "metadata": {},
     "output_type": "execute_result"
    }
   ],
   "source": [
    "doc = loader.load()\n",
    "len(doc)"
   ]
  },
  {
   "cell_type": "code",
   "execution_count": 50,
   "id": "fdc04a2b",
   "metadata": {},
   "outputs": [
    {
     "data": {
      "text/plain": [
       "15"
      ]
     },
     "execution_count": 50,
     "metadata": {},
     "output_type": "execute_result"
    }
   ],
   "source": [
    "from langchain_text_splitters import RecursiveCharacterTextSplitter\n",
    "\n",
    "# Clean up whitespace\n",
    "cleaned_doc = []\n",
    "for d in doc:\n",
    "    d.page_content = d.page_content.replace(\"\\n\", \" \").replace(\"\\t\", \" \")\n",
    "    d.page_content = \" \".join(d.page_content.split())  # remove extra spaces\n",
    "    cleaned_doc.append(d)\n",
    "\n",
    "# Split into chunks\n",
    "text_splitter = RecursiveCharacterTextSplitter(\n",
    "    chunk_size=1000,\n",
    "    chunk_overlap=100\n",
    ")\n",
    "\n",
    "texts = text_splitter.split_documents(cleaned_doc)\n",
    "len(texts)\n"
   ]
  },
  {
   "cell_type": "code",
   "execution_count": 51,
   "id": "9cf42969",
   "metadata": {},
   "outputs": [],
   "source": [
    "from langchain_ollama import OllamaEmbeddings\n",
    "from langchain_community.vectorstores import FAISS\n",
    "\n",
    "embeddings = OllamaEmbeddings(\n",
    "    model=\"mxbai-embed-large:latest\",\n",
    ")\n",
    "\n",
    "\n",
    "vectorstore = FAISS.from_documents(texts, embedding=embeddings)"
   ]
  },
  {
   "cell_type": "code",
   "execution_count": null,
   "id": "7e459d55",
   "metadata": {},
   "outputs": [],
   "source": []
  },
  {
   "cell_type": "code",
   "execution_count": 53,
   "id": "480816f5",
   "metadata": {},
   "outputs": [
    {
     "data": {
      "text/plain": [
       "[Document(id='cf896cb0-b388-48fb-9c7c-7bc80ea1cb45', metadata={'source': 'https://www.headphonezone.in/pages/our-team', 'title': 'Meet The Team Of Headphone Zone', 'description': 'Headphone Zone is India’s First Exclusive Headphone Retail Brand. Know more about our team and what everyone here at Headphone Zone does.', 'language': 'en'}, page_content=\"Engaging in Something New Listen to Taniya's Playlist Nandana Nair WEBSITE Just a Self-Proclaimed Singer, Dancer and Sunset Chaser Listen to Nandana's Playlist Simran Soni OPERATIONS Ice cream, Books And Music Keeps Me Going Listen to Simran's Playlist Pushkar Tambe CONTENT Goals With a Side Of Groove Listen to Pushkar's Playlist Fiona Buthello PEOPLE & CULTURE Kindness in Action, Purpose at Heart Listen to Fiona's Playlist Fiona Dewey CUSTOMER HAPPINESS You Only Have You Listen to Fiona's Playlist Sanskruti Khune OPERATIONS Apna Har Din Aise Jiyo, Jaise Ki Akhiri Ho. Jiyo Toh Iss Pal Aise Jiyo, Jaise Ki Akhiri Ho Listen to Sanskruti's Playlist Roma Rodrigues CUSTOMER HAPPINESS Pastry Chef, Athlete & A Belieber<3 Listen to Roma's Playlist Janvi Kacha WEBSITE An Introvert Finding Comfort In Silence And Joy In Chocolate Listen to Janvi's Playlist Roopanshi Chettiar SOCIAL MEDIA Forever a Creative Soul, Finding Art Where Others See Routine. Listen to Roopanshi's Playlist Shanaia Shrotri\"),\n",
       " Document(id='b10b6b49-8f11-48ef-8299-48bfbef55593', metadata={'source': 'https://www.headphonezone.in/pages/our-team', 'title': 'Meet The Team Of Headphone Zone', 'description': 'Headphone Zone is India’s First Exclusive Headphone Retail Brand. Know more about our team and what everyone here at Headphone Zone does.', 'language': 'en'}, page_content=\"Listen to Anushree's Playlist Zeel Soni DATA ANALYST Spreadsheets, Screenplays, And Side Quests - In That Order Listen to Zeel's Playlist Gargi Fadtare DATA ANALYST Finds Patterns in Data & Plot Twists in Fiction !! Listen to Gargi's Playlist Shravani Halaye DATA ANALYST Living In Moments, Learning Through Meaning Listen to Shravani's Playlist Garima Vyas CUSTOMER HAPPINESS Quick To Learn, Quicker To Help Listen to Garima's Playlist Theon Lopes HEADPHONE GURU Dirt Trails, Rock, And Groovy Bass Keep Me Up At Night Listen to Theon's Playlist Sameer Duwal OPERATIONS Music’s Always Part Of The Plan Listen to Sameer's Playlist Mayur Bahadur HEADPHONE GURU Sometimes I think, But Then I Forget Listen to Mayur's Playlist Join the team! We've got great people working with us and you could be one of them. Apply Now Talking To Us Is Easy Get in Touch with Our Team directly - We're Here to Help Write to UsPrefer to drop us a line? Our team will get back to you via email within a working day. Mail\")]"
      ]
     },
     "execution_count": 53,
     "metadata": {},
     "output_type": "execute_result"
    }
   ],
   "source": [
    "query  = \"FOUNDER & CEO\"\n",
    "result= vectorstore.similarity_search(query, k=2)\n",
    "result"
   ]
  },
  {
   "cell_type": "code",
   "execution_count": 66,
   "id": "1d20b370",
   "metadata": {},
   "outputs": [],
   "source": [
    "## retervial chain, document chain\n",
    "\n",
    "from langchain.chains.combine_documents import create_stuff_documents_chain\n",
    "from langchain_core.prompts import  ChatPromptTemplate\n",
    "\n",
    "prompt = ChatPromptTemplate.from_template(\n",
    "    \"\"\"\n",
    "    Answer the question based on the context below, if you don't know the answer, just say that you don't know, don't try to make up an answer.\n",
    "    <content>\n",
    "    {context}\n",
    "    </content>\n",
    "\n",
    "    \"\"\", \n",
    ")\n",
    "\n",
    "document_chain = create_stuff_documents_chain(google_llm, prompt)\n"
   ]
  },
  {
   "cell_type": "code",
   "execution_count": 67,
   "id": "f706f295",
   "metadata": {},
   "outputs": [
    {
     "data": {
      "text/plain": [
       "RunnableBinding(bound=RunnableBinding(bound=RunnableAssign(mapper={\n",
       "  context: RunnableLambda(format_docs)\n",
       "}), kwargs={}, config={'run_name': 'format_inputs'}, config_factories=[])\n",
       "| ChatPromptTemplate(input_variables=['context'], input_types={}, partial_variables={}, messages=[HumanMessagePromptTemplate(prompt=PromptTemplate(input_variables=['context'], input_types={}, partial_variables={}, template=\"\\n    Answer the question based on the context below, if you don't know the answer, just say that you don't know, don't try to make up an answer.\\n    <content>\\n    {context}\\n    </content>\\n\\n    \"), additional_kwargs={})])\n",
       "| ChatGoogleGenerativeAI(model='models/gemini-2.5-flash', google_api_key=SecretStr('**********'), client=<google.ai.generativelanguage_v1beta.services.generative_service.client.GenerativeServiceClient object at 0x0000012B9430F3A0>, default_metadata=(), model_kwargs={})\n",
       "| StrOutputParser(), kwargs={}, config={'run_name': 'stuff_documents_chain'}, config_factories=[])"
      ]
     },
     "execution_count": 67,
     "metadata": {},
     "output_type": "execute_result"
    }
   ],
   "source": [
    "document_chain"
   ]
  },
  {
   "cell_type": "code",
   "execution_count": 68,
   "id": "af74fd3f",
   "metadata": {},
   "outputs": [],
   "source": [
    "from langchain.chains import create_retrieval_chain\n",
    "\n",
    "retriver = vectorstore.as_retriever()\n",
    "\n",
    "retrival_chain = create_retrieval_chain(retriver, document_chain)"
   ]
  },
  {
   "cell_type": "code",
   "execution_count": 73,
   "id": "f24363d7",
   "metadata": {},
   "outputs": [
    {
     "data": {
      "text/plain": [
       "{'input': 'is there any sale?',\n",
       " 'context': [Document(id='fcd89a55-fbfc-429b-9d1a-8118e8df1250', metadata={'source': 'https://www.headphonezone.in/pages/our-team', 'title': 'Meet The Team Of Headphone Zone', 'description': 'Headphone Zone is India’s First Exclusive Headphone Retail Brand. Know more about our team and what everyone here at Headphone Zone does.', 'language': 'en'}, page_content=\"to UsPrefer to drop us a line? Our team will get back to you via email within a working day. Mail us Write to Us Request a Callback Sorry, we are unable to receive callback requests at the moment. You may Write to us instead. Join the Discussion We're not the experts on everything, but our community is. Join The Indian Audiophile Forum. Join community Go to item 1 Go to item 2 Go to item 3 Let Us Help Help Center Contact Us Track My Order Return My Order Report a Bug Visit Our Experience Studio Our Policies Shipping & Delivery Returns, Refunds & Cancellations Terms & Conditions Privacy Policy Community The Indian Audiophile Forum WhatsApp Community Blog Artists Headphone Zone Merchandise Dealers Become a Dealer Dealer Login AboutHeadphone Zone is India's #1 audiophile store and the purveyors of the world's finest headphones since 2011. Music is at the core of what we do; and it's our aim to help you rediscover your music and help you enjoy the riffs, basslines and solos that were\"),\n",
       "  Document(id='1bf1229b-9fcd-466b-b393-90bc9ac1efd7', metadata={'source': 'https://www.headphonezone.in/pages/our-team', 'title': 'Meet The Team Of Headphone Zone', 'description': 'Headphone Zone is India’s First Exclusive Headphone Retail Brand. Know more about our team and what everyone here at Headphone Zone does.', 'language': 'en'}, page_content='Meet The Team Of Headphone Zone Skip to content Festival of Sound Sale is Now Live 💥 Festival of Sound Sale is Now Live 💥 Festival of Sound Sale is Now Live 💥 Festival of Sound Sale is Now Live 💥 Festival of Sound Sale is Now Live 💥 Festival of Sound Sale is Now Live 💥 Festival of Sound Sale is Now Live 💥 Festival of Sound Sale is Now Live 💥 Festival of Sound Sale is Now Live 💥 Festival of Sound Sale is Now Live 💥 Menu Search SALE Categories In-Ears Headphones DACs & Amps Hi-Res Audio Players Wireless Cables Accessories Home Audio Merch In-Ears Beginner Audiophile IEMs Flagship Audiophile IEMs Our Collabs Type-C IEMs On-Stage Monitors IEM Cables Eartips IEMs Bundles Headphones Beginner Audiophile Flagship Headphones Studio & Professional For Calls Gaming Headphone Cables Earpads Headphones Bundles DACs & Amps Portable DACs & Amps Desktop DACs & Amps Speaker Amps Network Streamers Audio Interface Hi-Res Audio Players Portable Hi-Res Digital Audio Player Desktop Hi-Res Digital Audio'),\n",
       "  Document(id='eac4ac40-5e02-41dc-b6d8-d6308d89914d', metadata={'source': 'https://www.headphonezone.in/pages/our-team', 'title': 'Meet The Team Of Headphone Zone', 'description': 'Headphone Zone is India’s First Exclusive Headphone Retail Brand. Know more about our team and what everyone here at Headphone Zone does.', 'language': 'en'}, page_content=\"Amps Speaker Stands Streamers CD Players Turntables Our Collaborations Wan'er S.G 2 EDX Pro JD1 Wan'er S.G OD200 Blackbird Cadenza Salnotes Zero Ltd. Ed. PurePlay Z3 Hi-Res DAC Hi-Res DAC Pro Tan IEM / Earphone Case IEM / Earphone Case For Beginners Best Under ₹ 1,000 Best Under ₹ 2,000 Best Under ₹ 3,000 Best Under ₹ 5,000 Best Under ₹ 10,000 Best Under ₹ 20,000 Beginner Audiophile IEMs Type-C IEMs Beginner Audiophile Headphones What's New New Launches Coming Soon Bundles Bundles For IEMs Bundles For Headphones About Us Our Story Our Values Meet the Team Artists Careers at Headphone Zone Customer Testimonials Get in Touch Contact the Team Corporate Gifting Partner With Us 0 Your cart is empty Continue shopping Clear Close We press more plays than pausesMeet the Team Raghav Somani FOUNDER & CEO Good Idlis and Great Sound Listen to Raghav's Playlist Bhavika Kishan SHOW-RUNNER Painter, Baker and Fine Wine Maker Listen to Bhavika's Playlist Kamna Karamchandani CHEERLEADER INCHARGE\"),\n",
       "  Document(id='051f743e-70d7-42d1-84f6-f24ecfee3144', metadata={'source': 'https://www.headphonezone.in/pages/our-team', 'title': 'Meet The Team Of Headphone Zone', 'description': 'Headphone Zone is India’s First Exclusive Headphone Retail Brand. Know more about our team and what everyone here at Headphone Zone does.', 'language': 'en'}, page_content=\"Track Your Order Every FAQ Ever Returns After Sales Service Get In Touch With Us In-Ears Beginner Audiophile IEMs Flagship Audiophile IEMs Our Collabs Type-C IEMs On-Stage Monitors IEM Cables Eartips IEMs Bundles Headphones Beginner Audiophile Flagship Headphones Studio & Professional For Calls Gaming Headphone Cables Earpads Headphones Bundles DACs & Amps Portable DACs & Amps Desktop DACs & Amps Speaker Amps Network Streamers Audio Interface Hi-Res Audio Players Portable Hi-Res Digital Audio Player Desktop Hi-Res Digital Audio Player Streamers CD Players Wireless True Wireless Earbuds Wireless Headphones Noise Cancelling Headphones For Sports and Gym Cables IEM Cables Headphone Cables Adapters Digital Interconnect Analog Interconnect Accessories Eartips Earpads Audiophile Cases Bluetooth Adapters Headphone Stands Power Accessories Mechanical Keyboards Others Home Audio Speakers Speaker Amps Speaker Stands Streamers CD Players Turntables Our Collaborations Wan'er S.G 2 EDX Pro JD1\")],\n",
       " 'answer': 'Kamna Karamchandani is the CHEERLEADER INCHARGE.'}"
      ]
     },
     "execution_count": 73,
     "metadata": {},
     "output_type": "execute_result"
    }
   ],
   "source": [
    "retrival_chain.invoke({\"input\": \"is there any sale?\"})"
   ]
  },
  {
   "cell_type": "code",
   "execution_count": 70,
   "id": "044ba73e",
   "metadata": {},
   "outputs": [
    {
     "data": {
      "text/plain": [
       "RunnableBinding(bound=RunnableAssign(mapper={\n",
       "  context: RunnableBinding(bound=RunnableLambda(lambda x: x['input'])\n",
       "           | VectorStoreRetriever(tags=['FAISS', 'OllamaEmbeddings'], vectorstore=<langchain_community.vectorstores.faiss.FAISS object at 0x0000012B911FD240>, search_kwargs={}), kwargs={}, config={'run_name': 'retrieve_documents'}, config_factories=[])\n",
       "})\n",
       "| RunnableAssign(mapper={\n",
       "    answer: RunnableBinding(bound=RunnableBinding(bound=RunnableAssign(mapper={\n",
       "              context: RunnableLambda(format_docs)\n",
       "            }), kwargs={}, config={'run_name': 'format_inputs'}, config_factories=[])\n",
       "            | ChatPromptTemplate(input_variables=['context'], input_types={}, partial_variables={}, messages=[HumanMessagePromptTemplate(prompt=PromptTemplate(input_variables=['context'], input_types={}, partial_variables={}, template=\"\\n    Answer the question based on the context below, if you don't know the answer, just say that you don't know, don't try to make up an answer.\\n    <content>\\n    {context}\\n    </content>\\n\\n    \"), additional_kwargs={})])\n",
       "            | ChatGoogleGenerativeAI(model='models/gemini-2.5-flash', google_api_key=SecretStr('**********'), client=<google.ai.generativelanguage_v1beta.services.generative_service.client.GenerativeServiceClient object at 0x0000012B9430F3A0>, default_metadata=(), model_kwargs={})\n",
       "            | StrOutputParser(), kwargs={}, config={'run_name': 'stuff_documents_chain'}, config_factories=[])\n",
       "  }), kwargs={}, config={'run_name': 'retrieval_chain'}, config_factories=[])"
      ]
     },
     "execution_count": 70,
     "metadata": {},
     "output_type": "execute_result"
    }
   ],
   "source": [
    "retrival_chain"
   ]
  },
  {
   "cell_type": "code",
   "execution_count": null,
   "id": "b1485352",
   "metadata": {},
   "outputs": [],
   "source": []
  }
 ],
 "metadata": {
  "kernelspec": {
   "display_name": ".venv",
   "language": "python",
   "name": "python3"
  },
  "language_info": {
   "codemirror_mode": {
    "name": "ipython",
    "version": 3
   },
   "file_extension": ".py",
   "mimetype": "text/x-python",
   "name": "python",
   "nbconvert_exporter": "python",
   "pygments_lexer": "ipython3",
   "version": "3.10.0"
  }
 },
 "nbformat": 4,
 "nbformat_minor": 5
}
