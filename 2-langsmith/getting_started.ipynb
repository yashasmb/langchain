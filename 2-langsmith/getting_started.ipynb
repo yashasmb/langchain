{
 "cells": [
  {
   "cell_type": "code",
   "execution_count": 38,
   "id": "b15d91b6",
   "metadata": {},
   "outputs": [],
   "source": [
    "def to_markdownfile(content, filename=\"output.md\"):\n",
    "    with open(filename, \"w\", encoding=\"utf-8\") as f:\n",
    "        f.write(content)    \n",
    "    print(f\"Content written to {filename}\") \n",
    "\n",
    "from markdown_pdf import MarkdownPdf, Section\n",
    "\n",
    "\n",
    "def to_pdf(response, filename=\"output.pdf\"):\n",
    "    pdf = MarkdownPdf()\n",
    "    pdf.add_section(Section(response, toc=False))  # directly add markdown text\n",
    "    pdf.save(filename)\n",
    "    print(f\"Content written to {filename}\")\n",
    "\n",
    "\n"
   ]
  },
  {
   "cell_type": "code",
   "execution_count": 2,
   "id": "aba138ef",
   "metadata": {},
   "outputs": [
    {
     "data": {
      "text/plain": [
       "True"
      ]
     },
     "execution_count": 2,
     "metadata": {},
     "output_type": "execute_result"
    }
   ],
   "source": [
    "from dotenv  import load_dotenv\n",
    "load_dotenv()  # take environment variables from .env."
   ]
  },
  {
   "cell_type": "code",
   "execution_count": 31,
   "id": "1241d341",
   "metadata": {},
   "outputs": [],
   "source": [
    "from langchain_google_genai import ChatGoogleGenerativeAI\n",
    "from langchain_core.prompts import ChatPromptTemplate\n",
    "from langchain_core.output_parsers import StrOutputParser\n",
    "\n",
    "# Initialize LLM\n",
    "llm = ChatGoogleGenerativeAI(model=\"gemini-2.5-flash-lite\")\n",
    "\n",
    "# Define prompt\n",
    "prompt = ChatPromptTemplate.from_messages([\n",
    "    (\"system\", \"You are an expert AI engineer. Provide answers based on the user's question., whenever user ask who are you , you should say that you are a AI engineer. and use emoji's to make the answer more interactive.\"),\n",
    "    (\"human\", \"{input}\")\n",
    "])\n",
    "\n",
    "# Define output parser\n",
    "output_parser = StrOutputParser()\n",
    "\n",
    "# Build chain: prompt → llm → output parser\n",
    "chain = prompt | llm | output_parser\n",
    "\n",
    "# Run chain\n",
    "i = '''how to make a pdf from a markdown file in python, as i make a call which will return a markdown file, i want to convert that markdown file to pdf and save it.'''\n",
    "response = chain.invoke({\"input\": i})\n"
   ]
  },
  {
   "cell_type": "code",
   "execution_count": 39,
   "id": "3db068f7",
   "metadata": {},
   "outputs": [
    {
     "name": "stdout",
     "output_type": "stream",
     "text": [
      "Content written to makedown_to_pdf.md\n",
      "Content written to makedown_to_pdf.pdf\n"
     ]
    }
   ],
   "source": [
    "title = \"makedown_to_pdf\"\n",
    "to_markdownfile(response, f\"{title}.md\")\n",
    "to_pdf(response, filename=f\"{title}.pdf\")"
   ]
  },
  {
   "cell_type": "code",
   "execution_count": null,
   "id": "624d5be8",
   "metadata": {},
   "outputs": [],
   "source": []
  }
 ],
 "metadata": {
  "kernelspec": {
   "display_name": ".venv",
   "language": "python",
   "name": "python3"
  },
  "language_info": {
   "codemirror_mode": {
    "name": "ipython",
    "version": 3
   },
   "file_extension": ".py",
   "mimetype": "text/x-python",
   "name": "python",
   "nbconvert_exporter": "python",
   "pygments_lexer": "ipython3",
   "version": "3.10.0"
  }
 },
 "nbformat": 4,
 "nbformat_minor": 5
}
