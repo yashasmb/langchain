{
 "cells": [
  {
   "cell_type": "markdown",
   "id": "818efff8",
   "metadata": {},
   "source": [
    "### Simple Gen AI app with langchain and langsmith"
   ]
  },
  {
   "cell_type": "code",
   "execution_count": 1,
   "id": "1a1b2f54",
   "metadata": {},
   "outputs": [
    {
     "data": {
      "text/plain": [
       "True"
      ]
     },
     "execution_count": 1,
     "metadata": {},
     "output_type": "execute_result"
    }
   ],
   "source": [
    "import os\n",
    "from dotenv import load_dotenv\n",
    "load_dotenv()  # take environment variables from .env."
   ]
  },
  {
   "cell_type": "markdown",
   "id": "f98ccc74",
   "metadata": {},
   "source": [
    "### scrap the data from a website"
   ]
  },
  {
   "cell_type": "code",
   "execution_count": 5,
   "id": "bc877e61",
   "metadata": {},
   "outputs": [
    {
     "name": "stderr",
     "output_type": "stream",
     "text": [
      "USER_AGENT environment variable not set, consider setting it to identify your requests.\n"
     ]
    }
   ],
   "source": [
    "from langchain_community.document_loaders import WebBaseLoader"
   ]
  },
  {
   "cell_type": "code",
   "execution_count": null,
   "id": "77cc9801",
   "metadata": {},
   "outputs": [
    {
     "data": {
      "text/plain": [
       "[Document(metadata={'source': 'https://www.cricbuzz.com/live-cricket-scorecard/4297/eng-vs-aus-5th-test-australia-in-england-2005', 'title': 'Cricket scorecard - England vs Australia, 5th Test, Australia in England, 2005 | Cricbuzz.com', 'description': 'Catch live and fully detailed scorecard of England vs Australia, 5th Test, Sep 08, Australia in England, 2005 on Cricbuzz', 'language': 'en'}, page_content='\\n Cricket scorecard - England vs Australia, 5th Test, Australia in England, 2005 | Cricbuzz.com  ✖Live ScoresScheduleArchivesNewsAll Stories  Premium Editorials Latest NewsTopicsSpotlightOpinionsSpecialsStats & AnalysisInterviewsLive BlogsHarsha BhogleSeries  Asia Cup 2025 South Africa tour of England, 2025 Caribbean Premier League 2025 The Hundred Mens Competition 2025 Australia Women tour of India, 2025 ICC Womens World Cup 2025 India tour of England, 2025 South Africa tour of Australia, 2025 The Hundred Womens Competition 2025 Duleep Trophy 2025 All Series »Teams   Test Teams India Afghanistan Ireland Pakistan Australia Sri Lanka Bangladesh England West Indies South Africa Zimbabwe New Zealand   Associate Malaysia Nepal Germany Namibia Denmark Singapore Papua New Guinea Kuwait Vanuatu Jersey Oman Fiji   More... Videos  All Videos Categories Playlists   RankingsICC Rankings - MenICC Rankings - Women More World Test Championship World Cup Super League Photos Mobile AppsCareersContact Us  {{premiumScreenName}}     My Account Sign Out MATCHESSL vs ZIM - Ings BreakAFG vs PAK - PreviewSNP vs SLK - SLK wonSOU vs WEF - SOU wonCZONE vs NEZONE - LiveAllLive NowTodayINTERNATIONALEastern Europe Cup 2025Hungary vs Serbia1st MatchHungary vs Croatia2nd MatchCroatia vs Serbia3rd MatchHungary vs Serbia4th MatchGuernsey Tri-Nation T20I Series 2025Finland vs Switzerland1st MatchGuernsey vs Finland2nd MatchGuernsey vs Switzerland3rd MatchUAE T20I Tri-Series 2025Afghanistan vs Pakistan1st MatchICC CWC League Two 2023-27Namibia vs Scotland81st MatchSri Lanka tour of ZimbabweSri Lanka vs Zimbabwe1st ODIT20 LEAGUECPL 2025St Kitts and Nevis Patriots vs Saint Lucia Kings15th MatchTrinbago Knight Riders vs Barbados Royals16th MatchHundred Mens Competition 2025Southern Brave vs Welsh Fire32nd MatchUPPL 2025Lucknow Falcons vs Kanpur Superstars22nd MatchKashi Rudras vs Noida Kings23rd MatchMeerut Mavericks vs Gaur Gorakhapur Lions\\xa0\\xa0LIVE24th MatchKanpur Superstars vs Noida Kings25th MatchGaur Gorakhapur Lions vs Lucknow Falcons26th MatchKSCA T20 2025Hubli Tigers vs Mangalore DragonsFinalDPL 2025North Delhi Strikers vs New Delhi Tigers40th MatchEast Delhi Riders vs Central Delhi Kings\\xa0\\xa0LIVEQualifier 1West Delhi Lions vs South Delhi SuperstarzEliminatorKCL2025Kochi Blue Tigers vs Adani Trivandrum Royals15th MatchAlleppey Ripples vs Aries Kollam Sailors16th MatchThrissur Titans vs Aries Kollam Sailors\\xa0\\xa0LIVE17th MatchCalicut Globstars vs Alleppey Ripples18th MatchAdani Trivandrum Royals vs Calicut Globstars19th MatchDOMESTICDuleep TrophyNorth Zone vs East Zone\\xa0\\xa0LIVE1st Quarter-FinalCentral Zone vs North East Zone\\xa0\\xa0LIVE2nd Quarter-FinalICC CWC Challenge League A, 2024-26Denmark vs Kuwait\\xa0\\xa0LIVE25th MatchPapua New Guinea vs Jersey26th MatchKenya vs Kuwait27th MatchPapua New Guinea vs Qatar28th MatchSouth Africa A v New Zealand A, 2025South Africa A vs New Zealand A1st Unofficial ODIEngland Domestic One-Day CupHampshire vs MiddlesexQuarter Final 1Gloucestershire vs SomersetQuarter Final 2WOMENThe Hundred Womens Competition 2025Southern Brave Women vs Welsh Fire Women32nd MatchWomen Nordic CupFinland Women vs Germany Women1st MatchNorway Women vs Sweden Women2nd T20IFinland Women vs Norway Women3rd MatchDenmark Women vs Sweden Women4th Match    England vs Australia, 5th Test - Live Cricket Score, Commentary    Series:  Australia in England, 2005 Venue: Kennington Oval,\\xa0London Date & Time: Sep 08-Sep 12,\\xa010:30 AM\\xa0LOCAL    Commentary Scorecard Squads Live Blog Match Facts News Photos   Match drawn    England 1st Innings 373-10 (105.3 Ov)   Batter  R B 4s 6s SR      Marcus Trescothick    c Hayden b Warne  43 65 8 0 66.15        Sir Andrew Strauss    c Katich b Warne  129 210 17 0 61.43        Michael Vaughan    c Clarke b Warne  11 25 2 0 44.00        Ian Bell    lbw b Warne  0 7 0 0 0.00        Kevin Pietersen    b Warne  14 25 2 0 56.00        Andrew Flintoff    c Warne b McGrath  72 115 12 1 62.61        Paul Collingwood    lbw b Tait  7 26 1 0 26.92        Geraint Jones    b Lee  25 41 5 0 60.98        Ashley Giles    lbw b Warne  32 70 1 0 45.71        Matthew Hoggard    c Martyn b McGrath  2 36 0 0 5.56        Steve Harmison    not out  20 20 4 0 100.00      Extras  18  \\xa0(b 4, lb 6, w 1, nb 7, p 0)   Total  373   \\xa0(10 wkts, 105.3 Ov)    Fall of Wickets82-1 (M Trescothick, 17.3), 102-2 (M Vaughan, 23.5), 104-3 (Bell, 25.6), 131-4 (Pietersen, 33.3), 274-5 (A Flintoff, 70.1), 289-6 (P Collingwood, 76.3), 297-7 (A Strauss, 79.4), 325-8 (G Jones, 89.3), 345-9 (M Hoggard, 100.2), 373-10 (A Giles, 105.3)   Bowler O M R W NB WD ECO     Glenn McGrath   27 5 72 2 0 1 2.67        Brett Lee   23 3 94 1 3 0 4.09        Shaun Tait   15 1 61 1 3 0 4.07        Shane Warne   37.3 5 122 6 0 0 3.27        Simon Katich   3 0 14 0 0 0 4.67          Australia 1st Innings 367-10 (107.1 Ov)   Batter  R B 4s 6s SR      Justin Langer    b Harmison  105 146 11 2 71.92        Matthew Hayden    lbw b Flintoff  138 303 18 0 45.54        Ricky Ponting    c Strauss b Flintoff  35 56 3 0 62.50        Damien Martyn    c Collingwood b Flintoff  10 29 1 0 34.48        Michael Clarke    lbw b Hoggard  25 59 2 0 42.37        Simon Katich    lbw b Flintoff  1 11 0 0 9.09        Adam Gilchrist    lbw b Hoggard  23 20 4 0 115.00        Shane Warne    c Vaughan b Flintoff  0 10 0 0 0.00        Brett Lee    c Giles b Hoggard  6 10 0 0 60.00        Glenn McGrath    c Strauss b Hoggard  0 6 0 0 0.00        Shaun Tait    not out  1 2 0 0 50.00      Extras  23  \\xa0(b 4, lb 8, w 2, nb 9, p 0)   Total  367   \\xa0(10 wkts, 107.1 Ov)    Fall of Wickets185-1 (J Langer, 52.4), 264-2 (R Ponting, 72.2), 281-3 (D Martyn, 80.4), 323-4 (M Hayden, 92.3), 329-5 (S Katich, 94.6), 356-6 (A Gilchrist, 101.1), 359-7 (Clarke, 103.3), 363-8 (S Warne, 104.5), 363-9 (G McGrath, 105.6), 367-10 (B Lee, 107.1)   Bowler O M R W NB WD ECO     Steve Harmison   22 2 87 1 2 2 3.95        Matthew Hoggard   24.1 2 97 4 1 0 4.02        Andrew Flintoff   34 10 78 5 6 0 2.29        Ashley Giles   23 1 76 0 0 0 3.30        Paul Collingwood   4 0 17 0 0 0 4.25          England 2nd Innings 335-10 (91.3 Ov)   Batter  R B 4s 6s SR      Marcus Trescothick    lbw b Warne  33 84 1 0 39.29        Sir Andrew Strauss    c Katich b Warne  1 7 0 0 14.29        Michael Vaughan    c Gilchrist b McGrath  45 65 6 0 69.23        Ian Bell    c Warne b McGrath  0 1 0 0 0.00        Kevin Pietersen    b McGrath  158 187 15 7 84.49        Andrew Flintoff    c & b Warne  8 13 1 0 61.54        Paul Collingwood    c Ponting b Warne  10 51 1 0 19.61        Geraint Jones    b Tait  1 12 0 0 8.33        Ashley Giles    b Warne  59 97 7 0 60.82        Matthew Hoggard    not out  4 35 0 0 11.43        Steve Harmison    c Hayden b Warne  0 2 0 0 0.00      Extras  16  \\xa0(b 4, lb 0, w 7, nb 5, p 0)   Total  335   \\xa0(10 wkts, 91.3 Ov)    Fall of Wickets2-1 (A Strauss, 3.4), 67-2 (M Vaughan, 22.4), 67-3 (Bell, 22.5), 109-4 (M Trescothick, 33.1), 126-5 (A Flintoff, 37.5), 186-6 (P Collingwood, 51.5), 199-7 (G Jones, 56.5), 308-8 (Pietersen, 82.5), 335-9 (A Giles, 91.1), 335-10 (S Harmison, 91.3)   Bowler O M R W NB WD ECO     Glenn McGrath   26 3 85 3 1 0 3.27        Brett Lee   20 4 88 0 4 1 4.40        Shane Warne   38.3 3 124 6 0 1 3.24        Michael Clarke   2 0 6 0 0 0 3.00        Shaun Tait   5 0 28 1 0 1 5.60          Australia 2nd Innings 4-0 (0.4 Ov)   Batter  R B 4s 6s SR      Justin Langer    not out  0 4 0 0 0.00        Matthew Hayden    not out  0 0 0 0 0.00      Extras  4  \\xa0(b 0, lb 4, w 0, nb 0, p 0)   Total  4   \\xa0(0 wkts, 0.4 Ov)     Did not Bat   Ricky Ponting , Damien Martyn , Michael Clarke , Simon Katich , Adam Gilchrist , Shane Warne , Brett Lee , Glenn McGrath , Shaun Tait       Bowler O M R W NB WD ECO     Steve Harmison   0.4 0 0 0 0 0 0.00        Match Info   Match  ENG vs AUS, 5th Test, Australia in England, 2005    Date   -     Time      Venue  Kennington Oval, London    Umpires  Billy Bowden, Rudi Koertzen    Third Umpire  Jeremy Lloyds    Match Referee  Ranjan Madugalle   England\\xa0Squad  Playing  Marcus Trescothick, Sir Andrew Strauss, Michael Vaughan (c), Ian Bell, Kevin Pietersen, Andrew Flintoff, Paul Collingwood, Geraint Jones (wk), Ashley Giles, Matthew Hoggard, Steve Harmison    Bench     Support Staff    Australia\\xa0Squad  Playing  Justin Langer, Matthew Hayden, Ricky Ponting (c), Damien Martyn, Michael Clarke, Simon Katich, Adam Gilchrist (wk), Shane Warne, Brett Lee, Glenn McGrath, Shaun Tait    Bench     Support Staff       LATEST NEWS   PNG player charged with robbery during CWC Challenge League tournament2h ago   Injured Ervine ruled out of Sri Lanka ODIs3h ago  Openers give Saint Lucia Kings dominant win8h ago  Oval Invincibles - A dynasty on the verge of a historic three-peat8h ago  Roy, Overton condemn Welsh Fire to bottom spot9h ago  Life comes full circle for Nurul Hasan9h ago  More News    We use cookies to improve your experience on our site and to show you non-personalized ads. Find out more in our privacy policy and cookie policyOKMOBILE SITE & APPSm.cricbuzz.comAndroidiOSFOLLOW US ONfacebooktwitteryoutubePinterestCOMPANYCareersAdvertiseCricbuzz TV AdsPrivacy Preferences{{ link.name }}© 2025 Cricbuzz.com, Cricbuzz Platforms Limited. All rights reserved | The Times of India | Navbharat TimesMove to top ')]"
      ]
     },
     "execution_count": 26,
     "metadata": {},
     "output_type": "execute_result"
    }
   ],
   "source": [
    "link =\"https://en.wikipedia.org/wiki/List_of_Australia_national_cricket_captains\"\n",
    "doc  = WebBaseLoader(link)\n",
    "docs =doc.load()\n",
    "docs"
   ]
  },
  {
   "cell_type": "code",
   "execution_count": 27,
   "id": "be3ffd35",
   "metadata": {},
   "outputs": [
    {
     "data": {
      "text/plain": [
       "12"
      ]
     },
     "execution_count": 27,
     "metadata": {},
     "output_type": "execute_result"
    }
   ],
   "source": [
    "from langchain_text_splitters import RecursiveCharacterTextSplitter\n",
    "\n",
    "splitter  =   RecursiveCharacterTextSplitter(chunk_size=1000, chunk_overlap=200)\n",
    "splitted_docs = splitter.split_documents(docs)\n",
    "len(splitted_docs)"
   ]
  },
  {
   "cell_type": "code",
   "execution_count": 29,
   "id": "918f5279",
   "metadata": {},
   "outputs": [
    {
     "name": "stderr",
     "output_type": "stream",
     "text": [
      "C:\\Users\\yasha\\AppData\\Local\\Temp\\ipykernel_32440\\2785657573.py:2: LangChainDeprecationWarning: The class `OllamaEmbeddings` was deprecated in LangChain 0.3.1 and will be removed in 1.0.0. An updated version of the class exists in the :class:`~langchain-ollama package and should be used instead. To use it run `pip install -U :class:`~langchain-ollama` and import as `from :class:`~langchain_ollama import OllamaEmbeddings``.\n",
      "  embeddings = OllamaEmbeddings(model=\"mxbai-embed-large\")\n"
     ]
    }
   ],
   "source": [
    "from langchain_community.embeddings import OllamaEmbeddings\n",
    "embeddings = OllamaEmbeddings(model=\"mxbai-embed-large\")"
   ]
  },
  {
   "cell_type": "code",
   "execution_count": 35,
   "id": "2b671285",
   "metadata": {},
   "outputs": [],
   "source": [
    "a = embeddings.embed_documents([d.page_content for d in splitted_docs])"
   ]
  },
  {
   "cell_type": "code",
   "execution_count": 45,
   "id": "f4cde644",
   "metadata": {},
   "outputs": [
    {
     "data": {
      "text/plain": [
       "OllamaEmbeddings(base_url='http://localhost:11434', model='mxbai-embed-large', embed_instruction='passage: ', query_instruction='query: ', mirostat=None, mirostat_eta=None, mirostat_tau=None, num_ctx=None, num_gpu=None, num_thread=None, repeat_last_n=None, repeat_penalty=None, temperature=None, stop=None, tfs_z=None, top_k=None, top_p=None, show_progress=False, headers=None, model_kwargs=None)"
      ]
     },
     "execution_count": 45,
     "metadata": {},
     "output_type": "execute_result"
    }
   ],
   "source": [
    "embeddings"
   ]
  },
  {
   "cell_type": "code",
   "execution_count": 46,
   "id": "f91f1f87",
   "metadata": {},
   "outputs": [
    {
     "name": "stderr",
     "output_type": "stream",
     "text": [
      "C:\\Users\\yasha\\AppData\\Local\\Temp\\ipykernel_32440\\3154922141.py:11: LangChainDeprecationWarning: Since Chroma 0.4.x the manual persistence method is no longer supported as docs are automatically persisted.\n",
      "  db.persist()\n"
     ]
    }
   ],
   "source": [
    "from langchain_community.vectorstores import Chroma\n",
    "\n",
    "# Create a Chroma database and store docs\n",
    "db = Chroma.from_documents(\n",
    "    splitted_docs,\n",
    "    embeddings,\n",
    "    persist_directory=\"./chroma_store\"  # saves DB locally\n",
    ")\n",
    "\n",
    "# Save database to disk\n",
    "db.persist()\n"
   ]
  },
  {
   "cell_type": "code",
   "execution_count": 47,
   "id": "f11262f9",
   "metadata": {},
   "outputs": [
    {
     "name": "stderr",
     "output_type": "stream",
     "text": [
      "C:\\Users\\yasha\\AppData\\Local\\Temp\\ipykernel_32440\\831728929.py:2: LangChainDeprecationWarning: The class `Chroma` was deprecated in LangChain 0.2.9 and will be removed in 1.0. An updated version of the class exists in the :class:`~langchain-chroma package and should be used instead. To use it run `pip install -U :class:`~langchain-chroma` and import as `from :class:`~langchain_chroma import Chroma``.\n",
      "  db = Chroma(\n"
     ]
    },
    {
     "name": "stdout",
     "output_type": "stream",
     "text": [
      "vs Norway Women3rd MatchDenmark Women vs Sweden Women4th Match    England vs Australia, 5th Test - Live Cricket Score, Commentary    Series:  Australia in England, 2005 Venue: Kennington Oval, London Date & Time: Sep 08-Sep 12, 10:30 AM LOCAL    Commentary Scorecard Squads Live Blog Match Facts News\n",
      "38.3 3 124 6 0 1 3.24        Michael Clarke   2 0 6 0 0 0 3.00        Shaun Tait   5 0 28 1 0 1 5.60          Australia 2nd Innings 4-0 (0.4 Ov)   Batter  R B 4s 6s SR      Justin Langer    not out  0 4 0 0 0.00        Matthew Hayden    not out  0 0 0 0 0.00      Extras  4   (b 0, lb 4, w 0, nb 0, p\n",
      "Cricket scorecard - England vs Australia, 5th Test, Australia in England, 2005 | Cricbuzz.com  ✖Live ScoresScheduleArchivesNewsAll Stories  Premium Editorials Latest NewsTopicsSpotlightOpinionsSpecialsStats & AnalysisInterviewsLive BlogsHarsha BhogleSeries  Asia Cup 2025 South Africa tour of England\n"
     ]
    }
   ],
   "source": [
    "# Reload the DB later\n",
    "db = Chroma(\n",
    "    persist_directory=\"./chroma_store\",\n",
    "    embedding_function=embeddings\n",
    ")\n",
    "\n",
    "# Example query\n",
    "query = \"Who won the 5th test in 2005 Ashes series?\"\n",
    "results = db.similarity_search(query, k=3)\n",
    "\n",
    "for r in results:\n",
    "    print(r.page_content[:300])  # show first 300 chars\n"
   ]
  },
  {
   "cell_type": "code",
   "execution_count": 52,
   "id": "e449e019",
   "metadata": {},
   "outputs": [
    {
     "name": "stdout",
     "output_type": "stream",
     "text": [
      "I do not have the information to tell you who the current captain of the Australia cricket team is.\n"
     ]
    }
   ],
   "source": [
    "from langchain_community.llms import Ollama\n",
    "\n",
    "# Load Gemma3 4B model\n",
    "llm = Ollama(model=\"gemma3:4b\")\n",
    "from langchain_core.prompts import ChatPromptTemplate\n",
    "\n",
    "prompt = ChatPromptTemplate.from_messages([\n",
    "    (\"system\", \"You are a helpful cricket expert. do not use the internet. Use only the provided context to answer the question. If you don't know the answer, just say that you don't know, don't try to make up an answer.\"),\n",
    "    (\"human\", \"{question}\")\n",
    "])\n",
    "from langchain_core.output_parsers import StrOutputParser\n",
    "output_parser = StrOutputParser()\n",
    "# Chain = prompt → llm → output_parser\n",
    "chain = prompt | llm | output_parser\n",
    "response = chain.invoke({\"question\": \"who is the current captain of Australia cricket team?\"})\n",
    "print(response)\n",
    "\n"
   ]
  },
  {
   "cell_type": "code",
   "execution_count": null,
   "id": "c9bbfa1a",
   "metadata": {},
   "outputs": [],
   "source": []
  }
 ],
 "metadata": {
  "kernelspec": {
   "display_name": ".venv",
   "language": "python",
   "name": "python3"
  },
  "language_info": {
   "codemirror_mode": {
    "name": "ipython",
    "version": 3
   },
   "file_extension": ".py",
   "mimetype": "text/x-python",
   "name": "python",
   "nbconvert_exporter": "python",
   "pygments_lexer": "ipython3",
   "version": "3.10.0"
  }
 },
 "nbformat": 4,
 "nbformat_minor": 5
}
