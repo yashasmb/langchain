{
 "cells": [
  {
   "cell_type": "code",
   "execution_count": 10,
   "id": "c322a6ad",
   "metadata": {},
   "outputs": [],
   "source": [
    "from langchain_community.document_loaders import TextLoader\n",
    "from langchain_community.vectorstores import FAISS\n",
    "from langchain_community.embeddings import OllamaEmbeddings\n",
    "from langchain_text_splitters import RecursiveCharacterTextSplitter\n",
    "\n",
    "\n"
   ]
  },
  {
   "cell_type": "code",
   "execution_count": 28,
   "id": "af188229",
   "metadata": {},
   "outputs": [],
   "source": [
    "loader = TextLoader('speech.txt')\n",
    "document  = loader.load()"
   ]
  },
  {
   "cell_type": "code",
   "execution_count": 38,
   "id": "a69e9aee",
   "metadata": {},
   "outputs": [],
   "source": [
    "text_splitter = RecursiveCharacterTextSplitter(chunk_size=500, chunk_overlap=20)\n",
    "docs = text_splitter.split_documents(document)"
   ]
  },
  {
   "cell_type": "code",
   "execution_count": 39,
   "id": "7a10e3d4",
   "metadata": {},
   "outputs": [
    {
     "data": {
      "text/plain": [
       "[Document(metadata={'source': 'speech.txt'}, page_content='Once upon a time, in a peaceful little village surrounded by hills and rivers, there lived a curious young boy named Arjun. He was not like the other children in the village who spent their evenings playing games in the fields. Arjun had an adventurous spiritâ€”he loved exploring new places, collecting shiny stones, and listening to the songs of the birds.'),\n",
       " Document(metadata={'source': 'speech.txt'}, page_content='Every evening, after finishing his schoolwork, Arjun would wander into the forest that stood at the edge of the village. The villagers often warned him not to go too deep, for the forest was vast and mysterious. But Arjunâ€™s curiosity was stronger than his fear. He admired the towering trees, the chirping of colorful birds, and the gentle murmur of the flowing river.'),\n",
       " Document(metadata={'source': 'speech.txt'}, page_content='One golden evening, the sun was slowly dipping behind the hills when Arjun decided to walk further into the forest than ever before. His footsteps crunched on dry leaves, and he noticed the air becoming cooler and quieter. Soon, he stumbled upon something unusualâ€”an old stone bridge, half-hidden beneath moss and vines. The bridge looked ancient, as though it had been forgotten by time itself.'),\n",
       " Document(metadata={'source': 'speech.txt'}, page_content='Arjunâ€™s heart raced with excitement. Without a second thought, he crossed the bridge. On the other side, he discovered a place that looked like it belonged to a dream. Before him stretched a hidden garden, unlike anything he had ever seen. Flowers glowed softly in shades of blue, pink, and gold, their light shimmering like stars fallen to the ground. These magical blooms opened only under the moonlight, making the garden feel alive with mystery.'),\n",
       " Document(metadata={'source': 'speech.txt'}, page_content='In the center of this magical place stood a giant oak tree, older and larger than any tree Arjun had ever seen. Its bark was rough and thick, but what caught Arjunâ€™s eyes were the carvings etched into its trunk. They told storiesâ€”of travelers, wanderers, and dreamers who had once discovered this secret garden long ago.'),\n",
       " Document(metadata={'source': 'speech.txt'}, page_content='As Arjun traced the carvings with his fingers, he felt a sudden sense of connection, as though the forest itself was whispering secrets to him. It was as if the garden had been waiting for him, guarding its magic until the right person arrived.'),\n",
       " Document(metadata={'source': 'speech.txt'}, page_content='From that day on, the hidden garden became Arjunâ€™s secret refuge. Whenever he felt happy, sad, or even lonely, he would sneak away and sit under the great oak tree, surrounded by the glowing flowers. He promised himself that he would protect this secret place and never reveal it to anyoneâ€”not even his closest friends.'),\n",
       " Document(metadata={'source': 'speech.txt'}, page_content='Years later, Arjun grew up to be a wise and kind man, but he never forgot the garden of glowing flowers. Though the world around him changed, the secret forest remained untouched, carrying with it the whispers of ancient travelers and the promise of hidden wonders waiting to be discovered.')]"
      ]
     },
     "execution_count": 39,
     "metadata": {},
     "output_type": "execute_result"
    }
   ],
   "source": [
    "docs"
   ]
  },
  {
   "cell_type": "code",
   "execution_count": 40,
   "id": "4bae6a08",
   "metadata": {},
   "outputs": [],
   "source": [
    "embedding = OllamaEmbeddings(model=\"gemma:2b\")\n",
    "db = FAISS.from_documents(docs, embedding)"
   ]
  },
  {
   "cell_type": "code",
   "execution_count": 46,
   "id": "f344752c",
   "metadata": {},
   "outputs": [
    {
     "name": "stderr",
     "output_type": "stream",
     "text": [
      "C:\\Users\\yasha\\AppData\\Local\\Temp\\ipykernel_30704\\3758964249.py:4: UserWarning: Relevance scores must be between 0 and 1, got [(Document(id='56ef5948-53a9-4251-806c-8c82c74f408d', metadata={'source': 'speech.txt'}, page_content='Years later, Arjun grew up to be a wise and kind man, but he never forgot the garden of glowing flowers. Though the world around him changed, the secret forest remained untouched, carrying with it the whispers of ancient travelers and the promise of hidden wonders waiting to be discovered.'), np.float32(-1640.9469)), (Document(id='3c871cb1-3ae0-4256-ac28-4347886767b6', metadata={'source': 'speech.txt'}, page_content='From that day on, the hidden garden became Arjunâ€™s secret refuge. Whenever he felt happy, sad, or even lonely, he would sneak away and sit under the great oak tree, surrounded by the glowing flowers. He promised himself that he would protect this secret place and never reveal it to anyoneâ€”not even his closest friends.'), np.float32(-1793.0618)), (Document(id='34c14bd3-af18-46a4-a366-c58a0ab7254b', metadata={'source': 'speech.txt'}, page_content='In the center of this magical place stood a giant oak tree, older and larger than any tree Arjun had ever seen. Its bark was rough and thick, but what caught Arjunâ€™s eyes were the carvings etched into its trunk. They told storiesâ€”of travelers, wanderers, and dreamers who had once discovered this secret garden long ago.'), np.float32(-1858.8086)), (Document(id='5a7354e4-5a7d-4fb9-bbc3-c2f73541cff6', metadata={'source': 'speech.txt'}, page_content='Arjunâ€™s heart raced with excitement. Without a second thought, he crossed the bridge. On the other side, he discovered a place that looked like it belonged to a dream. Before him stretched a hidden garden, unlike anything he had ever seen. Flowers glowed softly in shades of blue, pink, and gold, their light shimmering like stars fallen to the ground. These magical blooms opened only under the moonlight, making the garden feel alive with mystery.'), np.float32(-1860.787))]\n",
      "  ans = db.similarity_search_with_relevance_scores(query)\n"
     ]
    }
   ],
   "source": [
    "query = \"Who was Arjun?\"\n",
    "query1 = \"what made Arjun different from the other children in the village?\"\n",
    "\n",
    "ans = db.similarity_search_with_relevance_scores(query)\n",
    "ans1 = db.similarity_search(query1)"
   ]
  },
  {
   "cell_type": "code",
   "execution_count": 47,
   "id": "825e64bf",
   "metadata": {},
   "outputs": [
    {
     "data": {
      "text/plain": [
       "[(Document(id='56ef5948-53a9-4251-806c-8c82c74f408d', metadata={'source': 'speech.txt'}, page_content='Years later, Arjun grew up to be a wise and kind man, but he never forgot the garden of glowing flowers. Though the world around him changed, the secret forest remained untouched, carrying with it the whispers of ancient travelers and the promise of hidden wonders waiting to be discovered.'),\n",
       "  np.float32(-1640.9469)),\n",
       " (Document(id='3c871cb1-3ae0-4256-ac28-4347886767b6', metadata={'source': 'speech.txt'}, page_content='From that day on, the hidden garden became Arjunâ€™s secret refuge. Whenever he felt happy, sad, or even lonely, he would sneak away and sit under the great oak tree, surrounded by the glowing flowers. He promised himself that he would protect this secret place and never reveal it to anyoneâ€”not even his closest friends.'),\n",
       "  np.float32(-1793.0618)),\n",
       " (Document(id='34c14bd3-af18-46a4-a366-c58a0ab7254b', metadata={'source': 'speech.txt'}, page_content='In the center of this magical place stood a giant oak tree, older and larger than any tree Arjun had ever seen. Its bark was rough and thick, but what caught Arjunâ€™s eyes were the carvings etched into its trunk. They told storiesâ€”of travelers, wanderers, and dreamers who had once discovered this secret garden long ago.'),\n",
       "  np.float32(-1858.8086)),\n",
       " (Document(id='5a7354e4-5a7d-4fb9-bbc3-c2f73541cff6', metadata={'source': 'speech.txt'}, page_content='Arjunâ€™s heart raced with excitement. Without a second thought, he crossed the bridge. On the other side, he discovered a place that looked like it belonged to a dream. Before him stretched a hidden garden, unlike anything he had ever seen. Flowers glowed softly in shades of blue, pink, and gold, their light shimmering like stars fallen to the ground. These magical blooms opened only under the moonlight, making the garden feel alive with mystery.'),\n",
       "  np.float32(-1860.787))]"
      ]
     },
     "execution_count": 47,
     "metadata": {},
     "output_type": "execute_result"
    }
   ],
   "source": [
    "ans"
   ]
  },
  {
   "cell_type": "code",
   "execution_count": 45,
   "id": "25a786f0",
   "metadata": {},
   "outputs": [
    {
     "data": {
      "text/plain": [
       "[Document(id='56ef5948-53a9-4251-806c-8c82c74f408d', metadata={'source': 'speech.txt'}, page_content='Years later, Arjun grew up to be a wise and kind man, but he never forgot the garden of glowing flowers. Though the world around him changed, the secret forest remained untouched, carrying with it the whispers of ancient travelers and the promise of hidden wonders waiting to be discovered.'),\n",
       " Document(id='3c871cb1-3ae0-4256-ac28-4347886767b6', metadata={'source': 'speech.txt'}, page_content='From that day on, the hidden garden became Arjunâ€™s secret refuge. Whenever he felt happy, sad, or even lonely, he would sneak away and sit under the great oak tree, surrounded by the glowing flowers. He promised himself that he would protect this secret place and never reveal it to anyoneâ€”not even his closest friends.'),\n",
       " Document(id='34c14bd3-af18-46a4-a366-c58a0ab7254b', metadata={'source': 'speech.txt'}, page_content='In the center of this magical place stood a giant oak tree, older and larger than any tree Arjun had ever seen. Its bark was rough and thick, but what caught Arjunâ€™s eyes were the carvings etched into its trunk. They told storiesâ€”of travelers, wanderers, and dreamers who had once discovered this secret garden long ago.'),\n",
       " Document(id='5a7354e4-5a7d-4fb9-bbc3-c2f73541cff6', metadata={'source': 'speech.txt'}, page_content='Arjunâ€™s heart raced with excitement. Without a second thought, he crossed the bridge. On the other side, he discovered a place that looked like it belonged to a dream. Before him stretched a hidden garden, unlike anything he had ever seen. Flowers glowed softly in shades of blue, pink, and gold, their light shimmering like stars fallen to the ground. These magical blooms opened only under the moonlight, making the garden feel alive with mystery.')]"
      ]
     },
     "execution_count": 45,
     "metadata": {},
     "output_type": "execute_result"
    }
   ],
   "source": [
    "## retriver\n",
    "\n",
    "retriever = db.as_retriever()\n",
    "retriever.invoke(query)"
   ]
  },
  {
   "cell_type": "code",
   "execution_count": null,
   "id": "92bb560b",
   "metadata": {},
   "outputs": [],
   "source": [
    "FAISS."
   ]
  }
 ],
 "metadata": {
  "kernelspec": {
   "display_name": ".venv",
   "language": "python",
   "name": "python3"
  },
  "language_info": {
   "codemirror_mode": {
    "name": "ipython",
    "version": 3
   },
   "file_extension": ".py",
   "mimetype": "text/x-python",
   "name": "python",
   "nbconvert_exporter": "python",
   "pygments_lexer": "ipython3",
   "version": "3.10.0"
  }
 },
 "nbformat": 4,
 "nbformat_minor": 5
}
