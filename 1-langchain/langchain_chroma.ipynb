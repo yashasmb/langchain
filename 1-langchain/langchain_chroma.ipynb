{
 "cells": [
  {
   "cell_type": "code",
   "execution_count": 26,
   "id": "194abab2",
   "metadata": {},
   "outputs": [],
   "source": [
    "from langchain_community.document_loaders import TextLoader\n",
    "from langchain_community.vectorstores import chroma\n",
    "from langchain_community.embeddings import OllamaEmbeddings\n",
    "from langchain_text_splitters import RecursiveCharacterTextSplitter\n",
    "from langchain_chroma import Chroma\n",
    "\n",
    "loader=TextLoader(\"speech.txt\")\n",
    "documents=loader.load()\n",
    "text_splitter=RecursiveCharacterTextSplitter(chunk_size=500,chunk_overlap=30)\n",
    "docs=text_splitter.split_documents(documents)\n"
   ]
  },
  {
   "cell_type": "code",
   "execution_count": null,
   "id": "8e74893e",
   "metadata": {},
   "outputs": [
    {
     "data": {
      "text/plain": [
       "[Document(metadata={'source': 'speech.txt'}, page_content='Once upon a time, in a peaceful little village surrounded by hills and rivers, there lived a curious young boy named Arjun. He was not like the other children in the village who spent their evenings playing games in the fields. Arjun had an adventurous spiritâ€”he loved exploring new places, collecting shiny stones, and listening to the songs of the birds.'),\n",
       " Document(metadata={'source': 'speech.txt'}, page_content='Every evening, after finishing his schoolwork, Arjun would wander into the forest that stood at the edge of the village. The villagers often warned him not to go too deep, for the forest was vast and mysterious. But Arjunâ€™s curiosity was stronger than his fear. He admired the towering trees, the chirping of colorful birds, and the gentle murmur of the flowing river.'),\n",
       " Document(metadata={'source': 'speech.txt'}, page_content='One golden evening, the sun was slowly dipping behind the hills when Arjun decided to walk further into the forest than ever before. His footsteps crunched on dry leaves, and he noticed the air becoming cooler and quieter. Soon, he stumbled upon something unusualâ€”an old stone bridge, half-hidden beneath moss and vines. The bridge looked ancient, as though it had been forgotten by time itself.'),\n",
       " Document(metadata={'source': 'speech.txt'}, page_content='Arjunâ€™s heart raced with excitement. Without a second thought, he crossed the bridge. On the other side, he discovered a place that looked like it belonged to a dream. Before him stretched a hidden garden, unlike anything he had ever seen. Flowers glowed softly in shades of blue, pink, and gold, their light shimmering like stars fallen to the ground. These magical blooms opened only under the moonlight, making the garden feel alive with mystery.'),\n",
       " Document(metadata={'source': 'speech.txt'}, page_content='In the center of this magical place stood a giant oak tree, older and larger than any tree Arjun had ever seen. Its bark was rough and thick, but what caught Arjunâ€™s eyes were the carvings etched into its trunk. They told storiesâ€”of travelers, wanderers, and dreamers who had once discovered this secret garden long ago.'),\n",
       " Document(metadata={'source': 'speech.txt'}, page_content='As Arjun traced the carvings with his fingers, he felt a sudden sense of connection, as though the forest itself was whispering secrets to him. It was as if the garden had been waiting for him, guarding its magic until the right person arrived.'),\n",
       " Document(metadata={'source': 'speech.txt'}, page_content='From that day on, the hidden garden became Arjunâ€™s secret refuge. Whenever he felt happy, sad, or even lonely, he would sneak away and sit under the great oak tree, surrounded by the glowing flowers. He promised himself that he would protect this secret place and never reveal it to anyoneâ€”not even his closest friends.'),\n",
       " Document(metadata={'source': 'speech.txt'}, page_content='Years later, Arjun grew up to be a wise and kind man, but he never forgot the garden of glowing flowers. Though the world around him changed, the secret forest remained untouched, carrying with it the whispers of ancient travelers and the promise of hidden wonders waiting to be discovered.')]"
      ]
     },
     "execution_count": 27,
     "metadata": {},
     "output_type": "execute_result"
    }
   ],
   "source": [
    "docs\n"
   ]
  },
  {
   "cell_type": "code",
   "execution_count": 28,
   "id": "5c490834",
   "metadata": {},
   "outputs": [],
   "source": [
    "embedding = OllamaEmbeddings(model=\"gemma:2b\")\n",
    "docs_embeddings = Chroma.from_documents(documents=docs, embedding=embedding)"
   ]
  },
  {
   "cell_type": "code",
   "execution_count": 29,
   "id": "e4f23ef9",
   "metadata": {},
   "outputs": [],
   "source": [
    "vectordb = chroma.Chroma.from_documents(documents=docs, embedding=embedding)"
   ]
  },
  {
   "cell_type": "code",
   "execution_count": 30,
   "id": "31ee3e0e",
   "metadata": {},
   "outputs": [
    {
     "data": {
      "text/plain": [
       "<langchain_chroma.vectorstores.Chroma at 0x1ffa0928880>"
      ]
     },
     "execution_count": 30,
     "metadata": {},
     "output_type": "execute_result"
    }
   ],
   "source": [
    "docs_embeddings"
   ]
  },
  {
   "cell_type": "code",
   "execution_count": 31,
   "id": "e01948ba",
   "metadata": {},
   "outputs": [
    {
     "data": {
      "text/plain": [
       "<langchain_community.vectorstores.chroma.Chroma at 0x1ffa0804580>"
      ]
     },
     "execution_count": 31,
     "metadata": {},
     "output_type": "execute_result"
    }
   ],
   "source": [
    "vectordb"
   ]
  },
  {
   "cell_type": "code",
   "execution_count": 36,
   "id": "8cdae207",
   "metadata": {},
   "outputs": [
    {
     "data": {
      "text/plain": [
       "[(Document(id='a8027a1c-ec72-4535-8138-f8f0cd1b5d79', metadata={'source': 'speech.txt'}, page_content='Years later, Arjun grew up to be a wise and kind man, but he never forgot the garden of glowing flowers. Though the world around him changed, the secret forest remained untouched, carrying with it the whispers of ancient travelers and the promise of hidden wonders waiting to be discovered.'),\n",
       "  -2269.564068563828),\n",
       " (Document(id='94df9e85-0613-48a8-8a6c-e30b703d4a52', metadata={'source': 'speech.txt'}, page_content='Years later, Arjun grew up to be a wise and kind man, but he never forgot the garden of glowing flowers. Though the world around him changed, the secret forest remained untouched, carrying with it the whispers of ancient travelers and the promise of hidden wonders waiting to be discovered.'),\n",
       "  -2269.564068563828),\n",
       " (Document(id='9ec04a88-573f-4cec-a8f0-5a5a2baf4c4e', metadata={'source': 'speech.txt'}, page_content='Years later, Arjun grew up to be a wise and kind man, but he never forgot the garden of glowing flowers. Though the world around him changed, the secret forest remained untouched, carrying with it the whispers of ancient travelers and the promise of hidden wonders waiting to be discovered.'),\n",
       "  -2269.564068563828),\n",
       " (Document(id='41884af8-55cc-4172-867d-4966435414a8', metadata={'source': 'speech.txt'}, page_content='Years later, Arjun grew up to be a wise and kind man, but he never forgot the garden of glowing flowers. Though the world around him changed, the secret forest remained untouched, carrying with it the whispers of ancient travelers and the promise of hidden wonders waiting to be discovered.'),\n",
       "  -2269.564068563828)]"
      ]
     },
     "execution_count": 36,
     "metadata": {},
     "output_type": "execute_result"
    }
   ],
   "source": [
    "query = \"what stood in the middle of migical place?\"\n",
    "docs_embeddings._similarity_search_with_relevance_scores(query)"
   ]
  },
  {
   "cell_type": "code",
   "execution_count": 35,
   "id": "545a3867",
   "metadata": {},
   "outputs": [
    {
     "data": {
      "text/plain": [
       "[Document(metadata={'source': 'speech.txt'}, page_content='Years later, Arjun grew up to be a wise and kind man, but he never forgot the garden of glowing flowers. Though the world around him changed, the secret forest remained untouched, carrying with it the whispers of ancient travelers and the promise of hidden wonders waiting to be discovered.'),\n",
       " Document(metadata={'source': 'speech.txt'}, page_content='Years later, Arjun grew up to be a wise and kind man, but he never forgot the garden of glowing flowers. Though the world around him changed, the secret forest remained untouched, carrying with it the whispers of ancient travelers and the promise of hidden wonders waiting to be discovered.'),\n",
       " Document(metadata={'source': 'speech.txt'}, page_content='Years later, Arjun grew up to be a wise and kind man, but he never forgot the garden of glowing flowers. Though the world around him changed, the secret forest remained untouched, carrying with it the whispers of ancient travelers and the promise of hidden wonders waiting to be discovered.'),\n",
       " Document(metadata={'source': 'speech.txt'}, page_content='Years later, Arjun grew up to be a wise and kind man, but he never forgot the garden of glowing flowers. Though the world around him changed, the secret forest remained untouched, carrying with it the whispers of ancient travelers and the promise of hidden wonders waiting to be discovered.')]"
      ]
     },
     "execution_count": 35,
     "metadata": {},
     "output_type": "execute_result"
    }
   ],
   "source": [
    "vectordb.similarity_search(query)"
   ]
  },
  {
   "cell_type": "code",
   "execution_count": 43,
   "id": "d53f195c",
   "metadata": {},
   "outputs": [
    {
     "name": "stdout",
     "output_type": "stream",
     "text": [
      "[Document(metadata={'source': 'doc1'}, page_content='ChromaDB is an open-source vector database.'), Document(metadata={'source': 'doc2'}, page_content='LangChain helps connect LLMs with external data.'), Document(metadata={'source': 'doc3'}, page_content='Retrieval-Augmented Generation improves LLM accuracy.')]\n",
      "🔹 Query: What is ChromaDB?\n",
      "\n",
      "Result 1:\n",
      "Content: ChromaDB is an open-source vector database.\n",
      "Metadata: {'source': 'doc1'}\n",
      "\n",
      "Result 2:\n",
      "Content: ChromaDB is an open-source vector database.\n",
      "Metadata: {'source': 'doc1'}\n"
     ]
    }
   ],
   "source": [
    "from langchain_openai import OpenAIEmbeddings\n",
    "from langchain_chroma import Chroma\n",
    "from langchain_core.documents import Document\n",
    "from langchain.text_splitter import CharacterTextSplitter\n",
    "from langchain_community.embeddings import OllamaEmbeddings\n",
    "\n",
    "# 1. Load your documents (here: just raw text)\n",
    "docs = [\n",
    "    Document(page_content=\"ChromaDB is an open-source vector database.\", metadata={\"source\": \"doc1\"}),\n",
    "    Document(page_content=\"LangChain helps connect LLMs with external data.\", metadata={\"source\": \"doc2\"}),\n",
    "    Document(page_content=\"Retrieval-Augmented Generation improves LLM accuracy.\", metadata={\"source\": \"doc3\"})\n",
    "]\n",
    "\n",
    "# 2. Split text if large (optional here since docs are small)\n",
    "text_splitter = CharacterTextSplitter(chunk_size=200, chunk_overlap=20)\n",
    "split_docs = text_splitter.split_documents(docs)\n",
    "print(split_docs)\n",
    "# 3. Create embeddings (using OpenAI here, can also use Hugging Face)\n",
    "embeddings = OllamaEmbeddings(model=\"gemma:2b\")\n",
    "\n",
    "# 4. Store in Chroma\n",
    "vectorstore = Chroma.from_documents(split_docs, embedding=embeddings)\n",
    "\n",
    "# 5. Query using similarity search\n",
    "query = \"What is ChromaDB?\"\n",
    "retrieved_docs = vectorstore.similarity_search(query, k=2)\n",
    "\n",
    "print(\"🔹 Query:\", query)\n",
    "for i, doc in enumerate(retrieved_docs, 1):\n",
    "    print(f\"\\nResult {i}:\")\n",
    "    print(\"Content:\", doc.page_content)\n",
    "    print(\"Metadata:\", doc.metadata)\n"
   ]
  },
  {
   "cell_type": "code",
   "execution_count": 60,
   "id": "4bdfbde9",
   "metadata": {},
   "outputs": [
    {
     "name": "stdout",
     "output_type": "stream",
     "text": [
      "[Document(metadata={'source': 'speech.txt'}, page_content='Once upon a time in a magical forest, there was a glowing crystal that stood in the middle of a'), Document(metadata={'source': 'speech.txt'}, page_content='hidden garden.'), Document(metadata={'source': 'speech.txt'}, page_content='The crystal gave light to the entire forest, keeping it alive and full of colors.'), Document(metadata={'source': 'speech.txt'}, page_content='Animals from all around came to see its beauty.'), Document(metadata={'source': 'speech.txt'}, page_content='One day, a traveler entered the forest and discovered the crystal.'), Document(metadata={'source': 'speech.txt'}, page_content='He felt peace and energy when he touched it.'), Document(metadata={'source': 'speech.txt'}, page_content='The forest spirits warned him that the crystal must never be removed,'), Document(metadata={'source': 'speech.txt'}, page_content='for it was the heart of the magical place.'), Document(metadata={'source': 'speech.txt'}, page_content='Despite the warning, the traveler decided to take the crystal.'), Document(metadata={'source': 'speech.txt'}, page_content='As soon as he lifted it, the forest started losing its light and magic.'), Document(metadata={'source': 'speech.txt'}, page_content='Realizing his mistake, he quickly returned it, \\nand balance was restored to the land.')]\n"
     ]
    }
   ],
   "source": [
    "from langchain_community.document_loaders import TextLoader\n",
    "from langchain.text_splitter import RecursiveCharacterTextSplitter\n",
    "from langchain_openai import OpenAIEmbeddings\n",
    "from langchain_community.vectorstores import Chroma\n",
    "from langchain_community.embeddings import OllamaEmbeddings\n",
    "\n",
    "# 1. Load your document\n",
    "loader = TextLoader(\"speech.txt\")   # put any .txt file\n",
    "documents = loader.load()\n",
    "\n",
    "# 2. Split into chunks\n",
    "text_splitter = RecursiveCharacterTextSplitter(chunk_size=100, chunk_overlap=0)\n",
    "docs = text_splitter.split_documents(documents)\n",
    "print(docs)\n",
    "# 3. Create embeddings\n",
    "embeddings = OllamaEmbeddings(model=\"gemma:2b\")   # or HuggingFaceEmbeddings()\n",
    "\n",
    "# 4. Store in ChromaDB\n",
    "db = Chroma.from_documents(docs, embeddings, persist_directory=\"./chroma_store\")\n",
    "\n",
    "# 5. Retrieve relevant docs\n",
    "\n"
   ]
  },
  {
   "cell_type": "code",
   "execution_count": 66,
   "id": "0ba49047",
   "metadata": {},
   "outputs": [
    {
     "name": "stdout",
     "output_type": "stream",
     "text": [
      "\n",
      "Document 1:\n",
      "Once upon a time in a magical forest, there was a glowing crystal that stood in the middle of a\n",
      "\n",
      "Document 2:\n",
      "hidden garden.\n",
      "\n",
      "Document 3:\n",
      "The crystal gave light to the entire forest, keeping it alive and full of colors.\n",
      "\n",
      "Document 4:\n",
      "Animals from all around came to see its beauty.\n",
      "\n",
      "Document 5:\n",
      "One day, a traveler entered the forest and discovered the crystal.\n",
      "\n",
      "Document 6:\n",
      "He felt peace and energy when he touched it.\n",
      "\n",
      "Document 7:\n",
      "The forest spirits warned him that the crystal must never be removed,\n",
      "\n",
      "Document 8:\n",
      "for it was the heart of the magical place.\n",
      "\n",
      "Document 9:\n",
      "Despite the warning, the traveler decided to take the crystal.\n",
      "\n",
      "Document 10:\n",
      "As soon as he lifted it, the forest started losing its light and magic.\n",
      "\n",
      "Document 11:\n",
      "Realizing his mistake, he quickly returned it, \n",
      "and balance was restored to the land.\n"
     ]
    }
   ],
   "source": [
    "for i, doc in enumerate(docs, 1):\n",
    "    print(f\"\\nDocument {i}:\")\n",
    "    print(doc.page_content)"
   ]
  },
  {
   "cell_type": "code",
   "execution_count": 69,
   "id": "d6a84c02",
   "metadata": {},
   "outputs": [
    {
     "name": "stdout",
     "output_type": "stream",
     "text": [
      "\n",
      "Result 1:\n",
      "for it was the heart of the magical place.\n",
      "\n",
      "Result 2:\n",
      "The crystal gave light to the entire forest, keeping it alive and full of colors.\n",
      "\n",
      "Result 3:\n",
      "Animals from all around came to see its beauty.\n",
      "\n",
      "Result 4:\n",
      "Realizing his mistake, he quickly returned it, \n",
      "and balance was restored to the land.\n"
     ]
    }
   ],
   "source": [
    "query = \"what stood in the middle of migical place?\"\n",
    "retriever = db.as_retriever()\n",
    "results = retriever.get_relevant_documents(query)\n",
    "\n",
    "for i, res in enumerate(results, 1):\n",
    "    print(f\"\\nResult {i}:\")\n",
    "    print(res.page_content)"
   ]
  },
  {
   "cell_type": "code",
   "execution_count": 71,
   "id": "6d2c09ee",
   "metadata": {},
   "outputs": [
    {
     "name": "stdout",
     "output_type": "stream",
     "text": [
      "\n",
      "\n",
      "Query: what stood in the middle of magical place?\n",
      "\n",
      "Result 1:\n",
      "for it was the heart of the magical place.\n",
      "\n",
      "Result 2:\n",
      "As soon as he lifted it, the forest started losing its light and magic.\n",
      "\n",
      "Result 3:\n",
      "The crystal gave light to the entire forest, keeping it alive and full of colors.\n",
      "\n",
      "Result 4:\n",
      "Despite the warning, the traveler decided to take the crystal. \n",
      "As soon as he lifted it, the forest started losing its light and magic. \n",
      "Realizing his mistake, he quickly returned it, \n",
      "and balance was restored to the land.\n",
      "\n",
      "\n",
      "Query: what happened when the traveler removed the crystal?\n",
      "\n",
      "Result 1:\n",
      "One day, a traveler entered the forest and discovered the crystal. \n",
      "He felt peace and energy when he touched it. \n",
      "The forest spirits warned him that the crystal must never be removed, \n",
      "for it was the heart of the magical place.\n",
      "\n",
      "Result 2:\n",
      "One day, a traveler entered the forest and discovered the crystal. \n",
      "He felt peace and energy when he touched it. \n",
      "The forest spirits warned him that the crystal must never be removed, \n",
      "for it was the heart of the magical place.\n",
      "\n",
      "Result 3:\n",
      "One day, a traveler entered the forest and discovered the crystal. \n",
      "He felt peace and energy when he touched it. \n",
      "The forest spirits warned him that the crystal must never be removed, \n",
      "for it was the heart of the magical place.\n",
      "\n",
      "Result 4:\n",
      "Despite the warning, the traveler decided to take the crystal. \n",
      "As soon as he lifted it, the forest started losing its light and magic. \n",
      "Realizing his mistake, he quickly returned it, \n",
      "and balance was restored to the land.\n",
      "\n",
      "\n",
      "Query: what restored balance to the forest?\n",
      "\n",
      "Result 1:\n",
      "Realizing his mistake, he quickly returned it, \n",
      "and balance was restored to the land.\n",
      "\n",
      "Result 2:\n",
      "Despite the warning, the traveler decided to take the crystal. \n",
      "As soon as he lifted it, the forest started losing its light and magic. \n",
      "Realizing his mistake, he quickly returned it, \n",
      "and balance was restored to the land.\n",
      "\n",
      "Result 3:\n",
      "Despite the warning, the traveler decided to take the crystal. \n",
      "As soon as he lifted it, the forest started losing its light and magic. \n",
      "Realizing his mistake, he quickly returned it, \n",
      "and balance was restored to the land.\n",
      "\n",
      "Result 4:\n",
      "Despite the warning, the traveler decided to take the crystal. \n",
      "As soon as he lifted it, the forest started losing its light and magic. \n",
      "Realizing his mistake, he quickly returned it, \n",
      "and balance was restored to the land.\n"
     ]
    }
   ],
   "source": [
    "\n",
    "query =[\"what stood in the middle of magical place?\", \"what happened when the traveler removed the crystal?\", \n",
    "        \"what restored balance to the forest?\"]\n",
    "for q in query:\n",
    "    print(f\"\\n\\nQuery: {q}\")\n",
    "    results = retriever.get_relevant_documents(q)\n",
    "    for i, res in enumerate(results, 1):\n",
    "        print(f\"\\nResult {i}:\")\n",
    "        print(res.page_content)\n"
   ]
  },
  {
   "cell_type": "code",
   "execution_count": 2,
   "id": "f6e0ebb9",
   "metadata": {},
   "outputs": [
    {
     "name": "stderr",
     "output_type": "stream",
     "text": [
      "C:\\Users\\yasha\\AppData\\Local\\Temp\\ipykernel_4572\\3326032660.py:42: LangChainDeprecationWarning: Since Chroma 0.4.x the manual persistence method is no longer supported as docs are automatically persisted.\n",
      "  db.persist()\n",
      "C:\\Users\\yasha\\AppData\\Local\\Temp\\ipykernel_4572\\3326032660.py:47: LangChainDeprecationWarning: The class `ChatOllama` was deprecated in LangChain 0.3.1 and will be removed in 1.0.0. An updated version of the class exists in the :class:`~langchain-ollama package and should be used instead. To use it run `pip install -U :class:`~langchain-ollama` and import as `from :class:`~langchain_ollama import ChatOllama``.\n",
      "  llm = ChatOllama(model=\"gemma3:4b\")\n",
      "C:\\Users\\yasha\\AppData\\Local\\Temp\\ipykernel_4572\\3326032660.py:79: LangChainDeprecationWarning: The method `Chain.run` was deprecated in langchain 0.1.0 and will be removed in 1.0. Use :meth:`~invoke` instead.\n",
      "  result = qa.run(q)\n"
     ]
    },
    {
     "name": "stdout",
     "output_type": "stream",
     "text": [
      "\n",
      "\n",
      "Query: Where was the glowing crystal located?\n",
      "A: The glowing crystal was located in the secret garden.\n",
      "\n",
      "\n",
      "Query: What role did the crystal play in the forest?\n",
      "A: According to the text, the crystal was the “breath of this forest.” It was the heart of the forest and sustained its life, preventing the rivers from drying up, the trees from withering, and the wings of birds from stilling.\n",
      "\n",
      "\n",
      "Query: Who guarded the crystal and what did they say about it?\n",
      "A: The ancient spirits, born from roots, rivers, and winds, guarded the crystal. They warned, “The crystal is the heart of the forest. It must never be touched, for its light is not a gift to take, but a bond to honor.”\n",
      "\n",
      "\n",
      "Query: Why did the traveler want to take the crystal?\n",
      "A: The traveler wanted to take the crystal to bring its light to the outside world, hoping to heal the suffering he had seen – villages struck by famine and children with hollow eyes.\n",
      "\n",
      "\n",
      "Query: What happened when the traveler lifted the crystal?\n",
      "A: With trembling hands, the traveler lifted the crystal from its resting place.\n",
      "\n",
      "\n",
      "Query: How was balance restored to the forest?\n",
      "A: Balance was restored when the traveler returned the crystal to its place in the secret garden. As soon as the crystal touched the earth again, its light burst forth, spreading across the forest and bringing life back to everything.\n",
      "\n",
      "\n",
      "Query: What lesson did the traveler learn from the spirits?\n",
      "A: The traveler learned that “true magic is not taken from where it belongs, but shared through the bonds of respect and care.” He also learned that “the greatest treasures of the world are not meant to be possessed, but honored.”\n",
      "\n",
      "\n",
      "Query: What did the traveler carry with him after leaving the forest?\n",
      "A: The traveler carried its lesson in his heart.\n",
      "\n",
      "\n",
      "Query: What is the main theme of the story?\n",
      "A: Based on the text, the main theme of the story is the restorative power of balance and life, and perhaps the temptation of trying to force that balance onto a troubled world. The crystal represents this balance, and the traveler’s actions highlight the desire to use it to fix a wider suffering, ultimately leading to the restoration of the forest.\n",
      "\n",
      "\n",
      "Query: If you were the traveler, what choice would you have made, and why?\n",
      "A: Based on the text, I would have left the crystal where it was. \n",
      "\n",
      "The passage shows me wrestling with a powerful temptation – the desire to use the crystal to alleviate suffering in the outside world. However, it also highlights the forest’s need for the crystal and the profound peace and healing I experienced simply by being in its presence. \n",
      "\n",
      "The descriptions of the suffering outside – famine, dust, and children’s hollow eyes – are incredibly moving and make a strong argument for intervention. But my experience within the forest suggests a deeper, more fundamental need for healing and restoration *here*. \n",
      "\n",
      "Ultimately, the text suggests the crystal’s power is best used to nurture and sustain this hidden world, rather than a desperate, perhaps misguided, attempt to fix a much larger problem.\n"
     ]
    }
   ],
   "source": [
    "from langchain_community.embeddings import OllamaEmbeddings\n",
    "from langchain_community.vectorstores import Chroma\n",
    "from langchain_community.chat_models import ChatOllama\n",
    "from langchain.chains import RetrievalQA\n",
    "from langchain.docstore.document import Document\n",
    "from langchain_community.document_loaders import TextLoader\n",
    "from langchain.text_splitter import RecursiveCharacterTextSplitter\n",
    "import shutil\n",
    "import os\n",
    "\n",
    "# -----------------------------\n",
    "# Step 1: Reset Chroma store\n",
    "# -----------------------------\n",
    "persist_dir = \"./chroma_store_mxbai1\"\n",
    "\n",
    "if os.path.exists(persist_dir):\n",
    "    shutil.rmtree(persist_dir)  # delete old store\n",
    "\n",
    "# -----------------------------\n",
    "# Step 2: Initialize embedding model\n",
    "# -----------------------------\n",
    "embeddings = OllamaEmbeddings(model=\"mxbai-embed-large\")\n",
    "\n",
    "# Example documents\n",
    "docs = TextLoader(\"speech.txt\", encoding=\"utf-8\").load()\n",
    "\n",
    "text_splitter = RecursiveCharacterTextSplitter(chunk_size=500, chunk_overlap=30)\n",
    "docs = text_splitter.split_documents(docs)\n",
    "\n",
    "\n",
    "\n",
    "# -----------------------------\n",
    "# Step 3: Create Chroma DB\n",
    "# -----------------------------\n",
    "db = Chroma.from_documents(\n",
    "    docs,\n",
    "    embeddings,\n",
    "    persist_directory=persist_dir\n",
    ")\n",
    "\n",
    "# Persist to disk\n",
    "db.persist()\n",
    "\n",
    "# -----------------------------\n",
    "# Step 4: Setup LLM (Gemma)\n",
    "# -----------------------------\n",
    "llm = ChatOllama(model=\"gemma3:4b\")\n",
    "\n",
    "# -----------------------------\n",
    "# Step 5: RetrievalQA Chain\n",
    "# -----------------------------\n",
    "retriever = db.as_retriever()\n",
    "qa = RetrievalQA.from_chain_type(\n",
    "    llm=llm,\n",
    "    retriever=retriever,\n",
    "    chain_type=\"stuff\"\n",
    ")\n",
    "\n",
    "# -----------------------------\n",
    "# Step 6: Ask a question\n",
    "# -----------------------------\n",
    "\n",
    "\n",
    "\n",
    "questions = [\n",
    "    \"Where was the glowing crystal located?\",\n",
    "    \"What role did the crystal play in the forest?\",\n",
    "    \"Who guarded the crystal and what did they say about it?\",\n",
    "    \"Why did the traveler want to take the crystal?\",\n",
    "    \"What happened when the traveler lifted the crystal?\",\n",
    "    \"How was balance restored to the forest?\",\n",
    "    \"What lesson did the traveler learn from the spirits?\",\n",
    "    \"What did the traveler carry with him after leaving the forest?\",\n",
    "    \"What is the main theme of the story?\",\n",
    "    \"If you were the traveler, what choice would you have made, and why?\"\n",
    "]\n",
    "\n",
    "for q in questions:\n",
    "    result = qa.run(q)\n",
    "    print(f\"\\n\\nQuery: {q}\")\n",
    "    print(\"A:\", result)\n"
   ]
  },
  {
   "cell_type": "code",
   "execution_count": 3,
   "id": "9e83f57d",
   "metadata": {},
   "outputs": [
    {
     "name": "stdout",
     "output_type": "stream",
     "text": [
      "\n",
      "\n",
      "Query: Where was the glowing crystal located?\n",
      "A: The crystal was located in the secret garden.\n",
      "\n",
      "\n",
      "Query: What role did the crystal play in the forest?\n",
      "A: The crystal was the heart of the forest, and it lived because the crystal lived. It was the breath of this forest, and to take it would silence the rivers, wither the trees, and still the beating of wings. The ancient spirits watched over it, born from roots, rivers, and winds, and their voices echoed like the rustling of trees, warning anyone who stumbled too close.\n",
      "\n",
      "\n",
      "Query: Who guarded the crystal and what did they say about it?\n",
      "A: The ancient spirits, born from roots, rivers, and winds, guarded the crystal. They whispered through the trees and warned any who stumbled too close: “The crystal is the heart of the forest. It must never be touched, for its light is not a gift to take, but a bond to honor.” They also warned that “To take it is to silence the rivers, to wither the trees, to still the beating of wings.”\n",
      "\n",
      "\n",
      "Query: Why did the traveler want to take the crystal?\n",
      "A: The traveler wanted to take the crystal because he had seen suffering in the world beyond the forest—villages struck by famine, fields turned to dust, and children with hollow eyes. He thought that its light could heal not just this forest, but all lands.\n",
      "\n",
      "\n",
      "Query: What happened when the traveler lifted the crystal?\n",
      "A: With trembling hands, the traveler lifted the crystal from its resting place.\n",
      "\n",
      "\n",
      "Query: How was balance restored to the forest?\n",
      "A: The moment it touched the earth again, its light burst forth brighter than before, spreading across the trees, rivers, and skies. The flowers reopened, the animals quieted, and life surged back into every corner of the forest. Balance was restored. The forest lived because the crystal lived.\n",
      "\n",
      "\n",
      "Query: What lesson did the traveler learn from the spirits?\n",
      "A: The traveler learned that “true magic is not taken from where it belongs, but shared through the bonds of respect and care.” He also learned that “the greatest treasures of the world are not meant to be possessed, but honored,” and that “the crystal is the heart of the forest. It must never be touched, for its light is not a gift to take, but a bond to honor.”\n",
      "\n",
      "\n",
      "Query: What did the traveler carry with him after leaving the forest?\n",
      "A: Though he carried no crystal in his hands, he carried its lesson in his heart. And wherever he went, he spoke of the living forest, of the light that could never be stolen, only protected.\n",
      "\n",
      "\n",
      "Query: What is the main theme of the story?\n",
      "A: The main theme of the story is the restoration of balance and life through the power of a magical crystal. The traveler’s actions, driven by a desire to alleviate suffering in the world, ultimately lead to the return of life and harmony to the forest, highlighting the importance of compassion and the potential for healing.\n",
      "\n",
      "\n",
      "Query: If you were the traveler, what choice would you have made, and why?\n",
      "A: If I were the traveler, I would have left the crystal where it was. I would have listened to my heart, but ultimately chosen wisdom over temptation. I would have remembered the suffering I had seen in the world beyond the forest – villages struck by famine, fields turned to dust, children with hollow eyes. While my desire to help those people was understandable, taking the crystal felt like a misguided attempt to fix a much larger problem with a single, potentially unsustainable solution. The forest needed the crystal, just as much as the outside world needed its guardians. The crystal’s gentle radiance had already healed me, and I realized that its true purpose was to nurture and protect this hidden paradise, not to be transported to a world in need.\n"
     ]
    }
   ],
   "source": [
    "from langchain.prompts import PromptTemplate\n",
    "\n",
    "qa_prompt = PromptTemplate.from_template(\"\"\"\n",
    "You are a helpful assistant. Use the context below to answer the question.\n",
    "If the context contains multiple details, include ALL of them in your answer.\n",
    "Do not skip or summarize too much.\n",
    "\n",
    "Context:\n",
    "{context}\n",
    "\n",
    "Question: {question}\n",
    "Answer:\n",
    "\"\"\")\n",
    "\n",
    "qa = RetrievalQA.from_chain_type(\n",
    "    llm=llm,\n",
    "    retriever=retriever,\n",
    "    chain_type=\"stuff\",\n",
    "    chain_type_kwargs={\"prompt\": qa_prompt}\n",
    ")\n",
    "\n",
    "retriever = db.as_retriever(search_kwargs={\"k\": 4})\n",
    "for q in questions:\n",
    "    result = qa.run(q)\n",
    "    print(f\"\\n\\nQuery: {q}\")\n",
    "    print(\"A:\", result)\n"
   ]
  },
  {
   "cell_type": "code",
   "execution_count": null,
   "id": "a1a216e2",
   "metadata": {},
   "outputs": [],
   "source": []
  }
 ],
 "metadata": {
  "kernelspec": {
   "display_name": ".venv",
   "language": "python",
   "name": "python3"
  },
  "language_info": {
   "codemirror_mode": {
    "name": "ipython",
    "version": 3
   },
   "file_extension": ".py",
   "mimetype": "text/x-python",
   "name": "python",
   "nbconvert_exporter": "python",
   "pygments_lexer": "ipython3",
   "version": "3.10.0"
  }
 },
 "nbformat": 4,
 "nbformat_minor": 5
}
